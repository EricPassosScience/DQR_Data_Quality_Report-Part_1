{
 "cells": [
  {
   "cell_type": "markdown",
   "metadata": {
    "application/vnd.databricks.v1+cell": {
     "cellMetadata": {
      "byteLimit": 2048000,
      "rowLimit": 10000
     },
     "inputWidgets": {},
     "nuid": "dca47648-3c32-42b8-80f2-539fcf0f5be3",
     "showTitle": false,
     "title": ""
    }
   },
   "source": [
    "## Paso 1: Data Quality Report (DQR)\n",
    "El DQR es un informe analítico con el objetivo de comprender la organización de los datos, si son coherentes, si existen anomalías ampliamente visibles y resumir los datos (o al menos las variables más importantes) en función de la comprensión del problema empresarial. .\n",
    "\n",
    "La descripción de lo que representa cada variable está disponible en el Diccionario de datos y en el material complementario en el siguiente enlace:\n",
    "\n",
    "https://www1.nyc.gov/site/finance/taxes/definitions-of-property-assessment-terms.page"
   ]
  },
  {
   "cell_type": "code",
   "execution_count": 0,
   "metadata": {
    "application/vnd.databricks.v1+cell": {
     "cellMetadata": {
      "byteLimit": 2048000,
      "rowLimit": 10000
     },
     "inputWidgets": {},
     "nuid": "dd260f77-84e3-41a1-ab16-5cd5eda421b6",
     "showTitle": false,
     "title": ""
    }
   },
   "outputs": [
    {
     "output_type": "stream",
     "name": "stdout",
     "output_type": "stream",
     "text": [
      "Versión del lenguaje Python utilizada en este Jupyter Notebook: 3.9.5\n"
     ]
    }
   ],
   "source": [
    "# Versión del lenguaje Python\n",
    "from platform import python_version\n",
    "print('Versión del lenguaje Python utilizada en este Jupyter Notebook:', python_version())"
   ]
  },
  {
   "cell_type": "markdown",
   "metadata": {
    "application/vnd.databricks.v1+cell": {
     "cellMetadata": {
      "byteLimit": 2048000,
      "rowLimit": 10000
     },
     "inputWidgets": {},
     "nuid": "44db8e6d-2c15-453e-b328-c9f2bb689be0",
     "showTitle": false,
     "title": ""
    }
   },
   "source": [
    "## Instalación y carga de paquetes"
   ]
  },
  {
   "cell_type": "code",
   "execution_count": 0,
   "metadata": {
    "application/vnd.databricks.v1+cell": {
     "cellMetadata": {
      "byteLimit": 2048000,
      "rowLimit": 10000
     },
     "inputWidgets": {},
     "nuid": "05aff260-72c7-48bc-b0e2-7cb06b6391b5",
     "showTitle": false,
     "title": ""
    }
   },
   "outputs": [
    {
     "output_type": "stream",
     "name": "stdout",
     "output_type": "stream",
     "text": [
      "\u001B[33mWARNING: You are using pip version 21.2.4; however, version 23.3.1 is available.\r\nYou should consider upgrading via the '/local_disk0/.ephemeral_nfs/envs/pythonEnv-b51baec4-23e3-48bd-a345-27e03a222a72/bin/python -m pip install --upgrade pip' command.\u001B[0m\r\n"
     ]
    }
   ],
   "source": [
    "# Para actualizar un paquete, ejecute el siguiente comando en la terminal o en el símbolo del sistema:\n",
    "# pip install -U nombre_paquete\n",
    "\n",
    "# Para instalar la versión exacta de un paquete, ejecute el siguiente comando en la terminal o en el símbolo del sistema:\n",
    "# !pip install nombre_paquete==versión_deseado\n",
    "\n",
    "# Después de instalar o actualizar el paquete, reinicie su computadora portátil jupyter.\n",
    "\n",
    "# Instale el paquete de marca de agua.\n",
    "# Este paquete se utiliza para registrar las versiones de otros paquetes utilizados en este cuaderno de jupyter.\n",
    "!pip install -q -U watermark"
   ]
  },
  {
   "cell_type": "code",
   "execution_count": 0,
   "metadata": {
    "application/vnd.databricks.v1+cell": {
     "cellMetadata": {
      "byteLimit": 2048000,
      "rowLimit": 10000
     },
     "inputWidgets": {},
     "nuid": "ec84327a-3ffe-42c2-95b6-59aaa51fb02d",
     "showTitle": false,
     "title": ""
    }
   },
   "outputs": [
    {
     "output_type": "display_data",
     "data": {
      "application/vnd.databricks.v1+bamboolib_hint": "{\"pd.DataFrames\": [], \"version\": \"0.0.1\"}",
      "text/plain": []
     },
     "metadata": {},
     "output_type": "display_data"
    }
   ],
   "source": [
    "# Imports\n",
    "import numpy as np\n",
    "import pandas as pd\n",
    "import matplotlib.pyplot as plt\n",
    "import matplotlib.pyplot as pyplot\n",
    "import seaborn as sns\n",
    "import warnings\n",
    "warnings.filterwarnings(\"ignore\")\n",
    "pd.set_option('display.float_format', lambda x : '%.2f' % x)\n",
    "%matplotlib inline"
   ]
  },
  {
   "cell_type": "code",
   "execution_count": 0,
   "metadata": {
    "application/vnd.databricks.v1+cell": {
     "cellMetadata": {
      "byteLimit": 2048000,
      "rowLimit": 10000
     },
     "inputWidgets": {},
     "nuid": "e88ace70-82da-42ff-98d9-4d9831679989",
     "showTitle": false,
     "title": ""
    }
   },
   "outputs": [
    {
     "output_type": "stream",
     "name": "stdout",
     "output_type": "stream",
     "text": [
      "Author: Eric Passos\n\npandas    : 1.3.4\nseaborn   : 0.11.2\nnumpy     : 1.20.3\nmatplotlib: 3.4.3\n\n"
     ]
    }
   ],
   "source": [
    "# Versiones de paquetes utilizados en este cuaderno jupyter\n",
    "%reload_ext watermark\n",
    "%watermark -a \"Eric Passos\" --iversions"
   ]
  },
  {
   "cell_type": "markdown",
   "metadata": {
    "application/vnd.databricks.v1+cell": {
     "cellMetadata": {
      "byteLimit": 2048000,
      "rowLimit": 10000
     },
     "inputWidgets": {},
     "nuid": "5b3adc00-18fa-4094-b37f-ee344b2108d3",
     "showTitle": false,
     "title": ""
    }
   },
   "source": [
    "## Resumen de datos"
   ]
  },
  {
   "cell_type": "code",
   "execution_count": 0,
   "metadata": {
    "application/vnd.databricks.v1+cell": {
     "cellMetadata": {
      "byteLimit": 2048000,
      "rowLimit": 10000
     },
     "inputWidgets": {},
     "nuid": "0d433a67-874e-4b5f-bb13-eeefb10a6c46",
     "showTitle": false,
     "title": ""
    }
   },
   "outputs": [],
   "source": [
    "# Cargar los datos\n",
    "dados = pd.read_csv('/dbfs/FileStore/shared_uploads/eric.passos@dataside.com.br/dataset-22.csv', index_col = 0)"
   ]
  },
  {
   "cell_type": "code",
   "execution_count": 0,
   "metadata": {
    "application/vnd.databricks.v1+cell": {
     "cellMetadata": {
      "byteLimit": 2048000,
      "rowLimit": 10000
     },
     "inputWidgets": {},
     "nuid": "1b178868-cf06-42c3-a2a1-107145ab2716",
     "showTitle": false,
     "title": ""
    }
   },
   "outputs": [
    {
     "output_type": "stream",
     "name": "stdout",
     "output_type": "stream",
     "text": [
      "Out[6]: (1070994, 31)"
     ]
    }
   ],
   "source": [
    "# Shape\n",
    "dados.shape"
   ]
  },
  {
   "cell_type": "code",
   "execution_count": 0,
   "metadata": {
    "application/vnd.databricks.v1+cell": {
     "cellMetadata": {
      "byteLimit": 2048000,
      "rowLimit": 10000
     },
     "inputWidgets": {},
     "nuid": "8fcf1e0a-c8dc-4352-98b5-3c3b32589a58",
     "showTitle": false,
     "title": ""
    }
   },
   "outputs": [
    {
     "output_type": "display_data",
     "data": {
      "text/html": [
       "<div>\n",
       "<style scoped>\n",
       "    .dataframe tbody tr th:only-of-type {\n",
       "        vertical-align: middle;\n",
       "    }\n",
       "\n",
       "    .dataframe tbody tr th {\n",
       "        vertical-align: top;\n",
       "    }\n",
       "\n",
       "    .dataframe thead th {\n",
       "        text-align: right;\n",
       "    }\n",
       "</style>\n",
       "<table border=\"1\" class=\"dataframe\">\n",
       "  <thead>\n",
       "    <tr style=\"text-align: right;\">\n",
       "      <th></th>\n",
       "      <th>BBLE</th>\n",
       "      <th>B</th>\n",
       "      <th>BLOCK</th>\n",
       "      <th>LOT</th>\n",
       "      <th>EASEMENT</th>\n",
       "      <th>OWNER</th>\n",
       "      <th>BLDGCL</th>\n",
       "      <th>TAXCLASS</th>\n",
       "      <th>LTFRONT</th>\n",
       "      <th>LTDEPTH</th>\n",
       "      <th>EXT</th>\n",
       "      <th>STORIES</th>\n",
       "      <th>FULLVAL</th>\n",
       "      <th>AVLAND</th>\n",
       "      <th>AVTOT</th>\n",
       "      <th>EXLAND</th>\n",
       "      <th>EXTOT</th>\n",
       "      <th>EXCD1</th>\n",
       "      <th>STADDR</th>\n",
       "      <th>ZIP</th>\n",
       "      <th>EXMPTCL</th>\n",
       "      <th>BLDFRONT</th>\n",
       "      <th>BLDDEPTH</th>\n",
       "      <th>AVLAND2</th>\n",
       "      <th>AVTOT2</th>\n",
       "      <th>EXLAND2</th>\n",
       "      <th>EXTOT2</th>\n",
       "      <th>EXCD2</th>\n",
       "      <th>PERIOD</th>\n",
       "      <th>YEAR</th>\n",
       "      <th>VALTYPE</th>\n",
       "    </tr>\n",
       "    <tr>\n",
       "      <th>RECORD</th>\n",
       "      <th></th>\n",
       "      <th></th>\n",
       "      <th></th>\n",
       "      <th></th>\n",
       "      <th></th>\n",
       "      <th></th>\n",
       "      <th></th>\n",
       "      <th></th>\n",
       "      <th></th>\n",
       "      <th></th>\n",
       "      <th></th>\n",
       "      <th></th>\n",
       "      <th></th>\n",
       "      <th></th>\n",
       "      <th></th>\n",
       "      <th></th>\n",
       "      <th></th>\n",
       "      <th></th>\n",
       "      <th></th>\n",
       "      <th></th>\n",
       "      <th></th>\n",
       "      <th></th>\n",
       "      <th></th>\n",
       "      <th></th>\n",
       "      <th></th>\n",
       "      <th></th>\n",
       "      <th></th>\n",
       "      <th></th>\n",
       "      <th></th>\n",
       "      <th></th>\n",
       "      <th></th>\n",
       "    </tr>\n",
       "  </thead>\n",
       "  <tbody>\n",
       "    <tr>\n",
       "      <th>1</th>\n",
       "      <td>1000010101</td>\n",
       "      <td>1</td>\n",
       "      <td>1</td>\n",
       "      <td>101</td>\n",
       "      <td>NaN</td>\n",
       "      <td>U S GOVT LAND &amp; BLDGS</td>\n",
       "      <td>P7</td>\n",
       "      <td>4</td>\n",
       "      <td>500</td>\n",
       "      <td>1046</td>\n",
       "      <td>NaN</td>\n",
       "      <td>NaN</td>\n",
       "      <td>21400000.00</td>\n",
       "      <td>4225500.00</td>\n",
       "      <td>9630000.00</td>\n",
       "      <td>4225500.00</td>\n",
       "      <td>9630000.00</td>\n",
       "      <td>4600.00</td>\n",
       "      <td>1 LIBERTY ISLAND</td>\n",
       "      <td>10004.00</td>\n",
       "      <td>X3</td>\n",
       "      <td>0</td>\n",
       "      <td>0</td>\n",
       "      <td>3775500.00</td>\n",
       "      <td>8613000.00</td>\n",
       "      <td>3775500.00</td>\n",
       "      <td>8613000.00</td>\n",
       "      <td>NaN</td>\n",
       "      <td>FINAL</td>\n",
       "      <td>2010/11</td>\n",
       "      <td>AC-TR</td>\n",
       "    </tr>\n",
       "    <tr>\n",
       "      <th>2</th>\n",
       "      <td>1000010201</td>\n",
       "      <td>1</td>\n",
       "      <td>1</td>\n",
       "      <td>201</td>\n",
       "      <td>NaN</td>\n",
       "      <td>U S GOVT LAND &amp; BLDGS</td>\n",
       "      <td>Z9</td>\n",
       "      <td>4</td>\n",
       "      <td>27</td>\n",
       "      <td>0</td>\n",
       "      <td>NaN</td>\n",
       "      <td>NaN</td>\n",
       "      <td>193800000.00</td>\n",
       "      <td>14310000.00</td>\n",
       "      <td>87210000.00</td>\n",
       "      <td>14310000.00</td>\n",
       "      <td>87210000.00</td>\n",
       "      <td>4600.00</td>\n",
       "      <td>1 ELLIS ISLAND</td>\n",
       "      <td>10004.00</td>\n",
       "      <td>X3</td>\n",
       "      <td>0</td>\n",
       "      <td>0</td>\n",
       "      <td>11111400.00</td>\n",
       "      <td>80690400.00</td>\n",
       "      <td>11111400.00</td>\n",
       "      <td>80690400.00</td>\n",
       "      <td>NaN</td>\n",
       "      <td>FINAL</td>\n",
       "      <td>2010/11</td>\n",
       "      <td>AC-TR</td>\n",
       "    </tr>\n",
       "    <tr>\n",
       "      <th>3</th>\n",
       "      <td>1000020001</td>\n",
       "      <td>1</td>\n",
       "      <td>2</td>\n",
       "      <td>1</td>\n",
       "      <td>NaN</td>\n",
       "      <td>DEPT OF GENERAL SERVI</td>\n",
       "      <td>Y7</td>\n",
       "      <td>4</td>\n",
       "      <td>709</td>\n",
       "      <td>564</td>\n",
       "      <td>E</td>\n",
       "      <td>3.00</td>\n",
       "      <td>104686000.00</td>\n",
       "      <td>39008700.00</td>\n",
       "      <td>47108700.00</td>\n",
       "      <td>39008700.00</td>\n",
       "      <td>47108700.00</td>\n",
       "      <td>2191.00</td>\n",
       "      <td>MARGINAL STREET</td>\n",
       "      <td>10004.00</td>\n",
       "      <td>X1</td>\n",
       "      <td>709</td>\n",
       "      <td>564</td>\n",
       "      <td>32321790.00</td>\n",
       "      <td>40179510.00</td>\n",
       "      <td>32321790.00</td>\n",
       "      <td>40179510.00</td>\n",
       "      <td>NaN</td>\n",
       "      <td>FINAL</td>\n",
       "      <td>2010/11</td>\n",
       "      <td>AC-TR</td>\n",
       "    </tr>\n",
       "    <tr>\n",
       "      <th>4</th>\n",
       "      <td>1000020023</td>\n",
       "      <td>1</td>\n",
       "      <td>2</td>\n",
       "      <td>23</td>\n",
       "      <td>NaN</td>\n",
       "      <td>DEPARTMENT OF BUSINES</td>\n",
       "      <td>T2</td>\n",
       "      <td>4</td>\n",
       "      <td>793</td>\n",
       "      <td>551</td>\n",
       "      <td>NaN</td>\n",
       "      <td>2.00</td>\n",
       "      <td>39200000.00</td>\n",
       "      <td>15255000.00</td>\n",
       "      <td>17640000.00</td>\n",
       "      <td>15255000.00</td>\n",
       "      <td>17640000.00</td>\n",
       "      <td>2191.00</td>\n",
       "      <td>PIER 6</td>\n",
       "      <td>10004.00</td>\n",
       "      <td>X1</td>\n",
       "      <td>85</td>\n",
       "      <td>551</td>\n",
       "      <td>13644000.00</td>\n",
       "      <td>15750000.00</td>\n",
       "      <td>13644000.00</td>\n",
       "      <td>15750000.00</td>\n",
       "      <td>NaN</td>\n",
       "      <td>FINAL</td>\n",
       "      <td>2010/11</td>\n",
       "      <td>AC-TR</td>\n",
       "    </tr>\n",
       "    <tr>\n",
       "      <th>5</th>\n",
       "      <td>1000030001</td>\n",
       "      <td>1</td>\n",
       "      <td>3</td>\n",
       "      <td>1</td>\n",
       "      <td>NaN</td>\n",
       "      <td>PARKS AND RECREATION</td>\n",
       "      <td>Q1</td>\n",
       "      <td>4</td>\n",
       "      <td>323</td>\n",
       "      <td>1260</td>\n",
       "      <td>NaN</td>\n",
       "      <td>1.00</td>\n",
       "      <td>272300000.00</td>\n",
       "      <td>121050000.00</td>\n",
       "      <td>122535000.00</td>\n",
       "      <td>121050000.00</td>\n",
       "      <td>122535000.00</td>\n",
       "      <td>2231.00</td>\n",
       "      <td>BATTERY PARK</td>\n",
       "      <td>10004.00</td>\n",
       "      <td>X1</td>\n",
       "      <td>89</td>\n",
       "      <td>57</td>\n",
       "      <td>106348680.00</td>\n",
       "      <td>107758350.00</td>\n",
       "      <td>106348680.00</td>\n",
       "      <td>107758350.00</td>\n",
       "      <td>NaN</td>\n",
       "      <td>FINAL</td>\n",
       "      <td>2010/11</td>\n",
       "      <td>AC-TR</td>\n",
       "    </tr>\n",
       "  </tbody>\n",
       "</table>\n",
       "</div>"
      ]
     },
     "metadata": {
      "application/vnd.databricks.v1+output": {
       "addedWidgets": {},
       "arguments": {},
       "data": "<div>\n<style scoped>\n    .dataframe tbody tr th:only-of-type {\n        vertical-align: middle;\n    }\n\n    .dataframe tbody tr th {\n        vertical-align: top;\n    }\n\n    .dataframe thead th {\n        text-align: right;\n    }\n</style>\n<table border=\"1\" class=\"dataframe\">\n  <thead>\n    <tr style=\"text-align: right;\">\n      <th></th>\n      <th>BBLE</th>\n      <th>B</th>\n      <th>BLOCK</th>\n      <th>LOT</th>\n      <th>EASEMENT</th>\n      <th>OWNER</th>\n      <th>BLDGCL</th>\n      <th>TAXCLASS</th>\n      <th>LTFRONT</th>\n      <th>LTDEPTH</th>\n      <th>EXT</th>\n      <th>STORIES</th>\n      <th>FULLVAL</th>\n      <th>AVLAND</th>\n      <th>AVTOT</th>\n      <th>EXLAND</th>\n      <th>EXTOT</th>\n      <th>EXCD1</th>\n      <th>STADDR</th>\n      <th>ZIP</th>\n      <th>EXMPTCL</th>\n      <th>BLDFRONT</th>\n      <th>BLDDEPTH</th>\n      <th>AVLAND2</th>\n      <th>AVTOT2</th>\n      <th>EXLAND2</th>\n      <th>EXTOT2</th>\n      <th>EXCD2</th>\n      <th>PERIOD</th>\n      <th>YEAR</th>\n      <th>VALTYPE</th>\n    </tr>\n    <tr>\n      <th>RECORD</th>\n      <th></th>\n      <th></th>\n      <th></th>\n      <th></th>\n      <th></th>\n      <th></th>\n      <th></th>\n      <th></th>\n      <th></th>\n      <th></th>\n      <th></th>\n      <th></th>\n      <th></th>\n      <th></th>\n      <th></th>\n      <th></th>\n      <th></th>\n      <th></th>\n      <th></th>\n      <th></th>\n      <th></th>\n      <th></th>\n      <th></th>\n      <th></th>\n      <th></th>\n      <th></th>\n      <th></th>\n      <th></th>\n      <th></th>\n      <th></th>\n      <th></th>\n    </tr>\n  </thead>\n  <tbody>\n    <tr>\n      <th>1</th>\n      <td>1000010101</td>\n      <td>1</td>\n      <td>1</td>\n      <td>101</td>\n      <td>NaN</td>\n      <td>U S GOVT LAND &amp; BLDGS</td>\n      <td>P7</td>\n      <td>4</td>\n      <td>500</td>\n      <td>1046</td>\n      <td>NaN</td>\n      <td>NaN</td>\n      <td>21400000.00</td>\n      <td>4225500.00</td>\n      <td>9630000.00</td>\n      <td>4225500.00</td>\n      <td>9630000.00</td>\n      <td>4600.00</td>\n      <td>1 LIBERTY ISLAND</td>\n      <td>10004.00</td>\n      <td>X3</td>\n      <td>0</td>\n      <td>0</td>\n      <td>3775500.00</td>\n      <td>8613000.00</td>\n      <td>3775500.00</td>\n      <td>8613000.00</td>\n      <td>NaN</td>\n      <td>FINAL</td>\n      <td>2010/11</td>\n      <td>AC-TR</td>\n    </tr>\n    <tr>\n      <th>2</th>\n      <td>1000010201</td>\n      <td>1</td>\n      <td>1</td>\n      <td>201</td>\n      <td>NaN</td>\n      <td>U S GOVT LAND &amp; BLDGS</td>\n      <td>Z9</td>\n      <td>4</td>\n      <td>27</td>\n      <td>0</td>\n      <td>NaN</td>\n      <td>NaN</td>\n      <td>193800000.00</td>\n      <td>14310000.00</td>\n      <td>87210000.00</td>\n      <td>14310000.00</td>\n      <td>87210000.00</td>\n      <td>4600.00</td>\n      <td>1 ELLIS ISLAND</td>\n      <td>10004.00</td>\n      <td>X3</td>\n      <td>0</td>\n      <td>0</td>\n      <td>11111400.00</td>\n      <td>80690400.00</td>\n      <td>11111400.00</td>\n      <td>80690400.00</td>\n      <td>NaN</td>\n      <td>FINAL</td>\n      <td>2010/11</td>\n      <td>AC-TR</td>\n    </tr>\n    <tr>\n      <th>3</th>\n      <td>1000020001</td>\n      <td>1</td>\n      <td>2</td>\n      <td>1</td>\n      <td>NaN</td>\n      <td>DEPT OF GENERAL SERVI</td>\n      <td>Y7</td>\n      <td>4</td>\n      <td>709</td>\n      <td>564</td>\n      <td>E</td>\n      <td>3.00</td>\n      <td>104686000.00</td>\n      <td>39008700.00</td>\n      <td>47108700.00</td>\n      <td>39008700.00</td>\n      <td>47108700.00</td>\n      <td>2191.00</td>\n      <td>MARGINAL STREET</td>\n      <td>10004.00</td>\n      <td>X1</td>\n      <td>709</td>\n      <td>564</td>\n      <td>32321790.00</td>\n      <td>40179510.00</td>\n      <td>32321790.00</td>\n      <td>40179510.00</td>\n      <td>NaN</td>\n      <td>FINAL</td>\n      <td>2010/11</td>\n      <td>AC-TR</td>\n    </tr>\n    <tr>\n      <th>4</th>\n      <td>1000020023</td>\n      <td>1</td>\n      <td>2</td>\n      <td>23</td>\n      <td>NaN</td>\n      <td>DEPARTMENT OF BUSINES</td>\n      <td>T2</td>\n      <td>4</td>\n      <td>793</td>\n      <td>551</td>\n      <td>NaN</td>\n      <td>2.00</td>\n      <td>39200000.00</td>\n      <td>15255000.00</td>\n      <td>17640000.00</td>\n      <td>15255000.00</td>\n      <td>17640000.00</td>\n      <td>2191.00</td>\n      <td>PIER 6</td>\n      <td>10004.00</td>\n      <td>X1</td>\n      <td>85</td>\n      <td>551</td>\n      <td>13644000.00</td>\n      <td>15750000.00</td>\n      <td>13644000.00</td>\n      <td>15750000.00</td>\n      <td>NaN</td>\n      <td>FINAL</td>\n      <td>2010/11</td>\n      <td>AC-TR</td>\n    </tr>\n    <tr>\n      <th>5</th>\n      <td>1000030001</td>\n      <td>1</td>\n      <td>3</td>\n      <td>1</td>\n      <td>NaN</td>\n      <td>PARKS AND RECREATION</td>\n      <td>Q1</td>\n      <td>4</td>\n      <td>323</td>\n      <td>1260</td>\n      <td>NaN</td>\n      <td>1.00</td>\n      <td>272300000.00</td>\n      <td>121050000.00</td>\n      <td>122535000.00</td>\n      <td>121050000.00</td>\n      <td>122535000.00</td>\n      <td>2231.00</td>\n      <td>BATTERY PARK</td>\n      <td>10004.00</td>\n      <td>X1</td>\n      <td>89</td>\n      <td>57</td>\n      <td>106348680.00</td>\n      <td>107758350.00</td>\n      <td>106348680.00</td>\n      <td>107758350.00</td>\n      <td>NaN</td>\n      <td>FINAL</td>\n      <td>2010/11</td>\n      <td>AC-TR</td>\n    </tr>\n  </tbody>\n</table>\n</div>",
       "datasetInfos": [],
       "metadata": {},
       "removedWidgets": [],
       "textData": null,
       "type": "htmlSandbox"
      }
     },
     "output_type": "display_data"
    }
   ],
   "source": [
    "# Vista\n",
    "dados.head()"
   ]
  },
  {
   "cell_type": "code",
   "execution_count": 0,
   "metadata": {
    "application/vnd.databricks.v1+cell": {
     "cellMetadata": {
      "byteLimit": 2048000,
      "rowLimit": 10000
     },
     "inputWidgets": {},
     "nuid": "70b8f534-692d-4755-bf3d-e73dfa9bbd43",
     "showTitle": false,
     "title": ""
    }
   },
   "outputs": [
    {
     "output_type": "stream",
     "name": "stdout",
     "output_type": "stream",
     "text": [
      "Líneas:  1070994\nColumnas:  31\n\nVariables: \n ['BBLE', 'B', 'BLOCK', 'LOT', 'EASEMENT', 'OWNER', 'BLDGCL', 'TAXCLASS', 'LTFRONT', 'LTDEPTH', 'EXT', 'STORIES', 'FULLVAL', 'AVLAND', 'AVTOT', 'EXLAND', 'EXTOT', 'EXCD1', 'STADDR', 'ZIP', 'EXMPTCL', 'BLDFRONT', 'BLDDEPTH', 'AVLAND2', 'AVTOT2', 'EXLAND2', 'EXTOT2', 'EXCD2', 'PERIOD', 'YEAR', 'VALTYPE']\n\nValores faltantes: \n BBLE              0\nB                 0\nBLOCK             0\nLOT               0\nEASEMENT    1066358\nOWNER         31745\nBLDGCL            0\nTAXCLASS          0\nLTFRONT           0\nLTDEPTH           0\nEXT          716689\nSTORIES       56264\nFULLVAL           0\nAVLAND            0\nAVTOT             0\nEXLAND            0\nEXTOT             0\nEXCD1        432506\nSTADDR          676\nZIP           29890\nEXMPTCL     1055415\nBLDFRONT          0\nBLDDEPTH          0\nAVLAND2      788268\nAVTOT2       788262\nEXLAND2      983545\nEXTOT2       940166\nEXCD2        978046\nPERIOD            0\nYEAR              0\nVALTYPE           0\ndtype: int64\n\nValores Únicos: \n BBLE        1070994\nB                 5\nBLOCK         13984\nLOT            6366\nEASEMENT         12\nOWNER        863346\nBLDGCL          200\nTAXCLASS         11\nLTFRONT        1297\nLTDEPTH        1370\nEXT               3\nSTORIES         111\nFULLVAL      109324\nAVLAND        70921\nAVTOT        112914\nEXLAND        33419\nEXTOT         64255\nEXCD1           129\nSTADDR       839280\nZIP             196\nEXMPTCL          14\nBLDFRONT        612\nBLDDEPTH        621\nAVLAND2       58591\nAVTOT2       111360\nEXLAND2       22195\nEXTOT2        48348\nEXCD2            60\nPERIOD            1\nYEAR              1\nVALTYPE           1\ndtype: int64\n"
     ]
    }
   ],
   "source": [
    "# Resumen\n",
    "print(\"Líneas: \", dados.shape[0])\n",
    "print(\"Columnas: \", dados.shape[1])\n",
    "print(\"\\nVariables: \\n\", dados.columns.tolist())\n",
    "print(\"\\nValores faltantes: \\n\" , dados.isnull().sum())\n",
    "print(\"\\nValores Únicos: \\n\", dados.nunique())"
   ]
  },
  {
   "cell_type": "code",
   "execution_count": 0,
   "metadata": {
    "application/vnd.databricks.v1+cell": {
     "cellMetadata": {
      "byteLimit": 2048000,
      "rowLimit": 10000
     },
     "inputWidgets": {},
     "nuid": "d49f7527-9c9e-4b0a-a158-2c4a1086bf55",
     "showTitle": false,
     "title": ""
    }
   },
   "outputs": [
    {
     "output_type": "stream",
     "name": "stdout",
     "output_type": "stream",
     "text": [
      "<class 'pandas.core.frame.DataFrame'>\nInt64Index: 1070994 entries, 1 to 1070994\nData columns (total 31 columns):\n #   Column    Non-Null Count    Dtype  \n---  ------    --------------    -----  \n 0   BBLE      1070994 non-null  object \n 1   B         1070994 non-null  int64  \n 2   BLOCK     1070994 non-null  int64  \n 3   LOT       1070994 non-null  int64  \n 4   EASEMENT  4636 non-null     object \n 5   OWNER     1039249 non-null  object \n 6   BLDGCL    1070994 non-null  object \n 7   TAXCLASS  1070994 non-null  object \n 8   LTFRONT   1070994 non-null  int64  \n 9   LTDEPTH   1070994 non-null  int64  \n 10  EXT       354305 non-null   object \n 11  STORIES   1014730 non-null  float64\n 12  FULLVAL   1070994 non-null  float64\n 13  AVLAND    1070994 non-null  float64\n 14  AVTOT     1070994 non-null  float64\n 15  EXLAND    1070994 non-null  float64\n 16  EXTOT     1070994 non-null  float64\n 17  EXCD1     638488 non-null   float64\n 18  STADDR    1070318 non-null  object \n 19  ZIP       1041104 non-null  float64\n 20  EXMPTCL   15579 non-null    object \n 21  BLDFRONT  1070994 non-null  int64  \n 22  BLDDEPTH  1070994 non-null  int64  \n 23  AVLAND2   282726 non-null   float64\n 24  AVTOT2    282732 non-null   float64\n 25  EXLAND2   87449 non-null    float64\n 26  EXTOT2    130828 non-null   float64\n 27  EXCD2     92948 non-null    float64\n 28  PERIOD    1070994 non-null  object \n 29  YEAR      1070994 non-null  object \n 30  VALTYPE   1070994 non-null  object \ndtypes: float64(13), int64(7), object(11)\nmemory usage: 261.5+ MB\n"
     ]
    }
   ],
   "source": [
    "# Info\n",
    "dados.info()"
   ]
  },
  {
   "cell_type": "markdown",
   "metadata": {
    "application/vnd.databricks.v1+cell": {
     "cellMetadata": {
      "byteLimit": 2048000,
      "rowLimit": 10000
     },
     "inputWidgets": {},
     "nuid": "5e0b3e40-ecba-429a-bacb-bc4132a66613",
     "showTitle": false,
     "title": ""
    }
   },
   "source": [
    "Creemos dos marcos de datos distintos, uno para las columnas numéricas (cuantitativas) y otro para las columnas categóricas."
   ]
  },
  {
   "cell_type": "code",
   "execution_count": 0,
   "metadata": {
    "application/vnd.databricks.v1+cell": {
     "cellMetadata": {
      "byteLimit": 2048000,
      "rowLimit": 10000
     },
     "inputWidgets": {},
     "nuid": "ad7372f0-27ca-4cff-bdea-1262abd29a13",
     "showTitle": false,
     "title": ""
    }
   },
   "outputs": [],
   "source": [
    "# Columnas numéricas (cuantitativas)\n",
    "num_cols = ['LTFRONT', 'LTDEPTH', 'STORIES', 'FULLVAL', 'AVLAND', 'AVTOT', 'EXLAND', 'EXTOT', 'BLDFRONT', 'BLDDEPTH', \\\n",
    "            'AVLAND2', 'AVTOT2', 'EXLAND2', 'EXTOT2']"
   ]
  },
  {
   "cell_type": "code",
   "execution_count": 0,
   "metadata": {
    "application/vnd.databricks.v1+cell": {
     "cellMetadata": {
      "byteLimit": 2048000,
      "rowLimit": 10000
     },
     "inputWidgets": {},
     "nuid": "d3bcc733-02c1-4db8-a4e8-490388ef4e1a",
     "showTitle": false,
     "title": ""
    }
   },
   "outputs": [],
   "source": [
    "# Columnas categóricas\n",
    "cat_cols = ['BBLE', 'B', 'BLOCK', 'LOT', 'EASEMENT', 'OWNER', 'BLDGCL', 'TAXCLASS', 'EXT', 'EXCD1', 'STADDR', 'ZIP',\\\n",
    "            'EXMPTCL', 'EXCD2', 'PERIOD', 'YEAR', 'VALTYPE']"
   ]
  },
  {
   "cell_type": "code",
   "execution_count": 0,
   "metadata": {
    "application/vnd.databricks.v1+cell": {
     "cellMetadata": {
      "byteLimit": 2048000,
      "rowLimit": 10000
     },
     "inputWidgets": {},
     "nuid": "7112d78e-4b91-421d-9a2e-1f66e6c17e4d",
     "showTitle": false,
     "title": ""
    }
   },
   "outputs": [
    {
     "output_type": "stream",
     "name": "stdout",
     "output_type": "stream",
     "text": [
      "Out[12]: True"
     ]
    }
   ],
   "source": [
    "# Comprueba si el total de variables están cubiertas en los objetos anteriores.\n",
    "len(num_cols) + len(cat_cols) == 31"
   ]
  },
  {
   "cell_type": "code",
   "execution_count": 0,
   "metadata": {
    "application/vnd.databricks.v1+cell": {
     "cellMetadata": {
      "byteLimit": 2048000,
      "rowLimit": 10000
     },
     "inputWidgets": {},
     "nuid": "b4a322a1-2206-455d-b3ba-ab3ae1cba940",
     "showTitle": false,
     "title": ""
    }
   },
   "outputs": [],
   "source": [
    "# Dataframes con diferentes tipos de variables\n",
    "df_num = dados[num_cols]\n",
    "df_cat = dados[cat_cols]"
   ]
  },
  {
   "cell_type": "code",
   "execution_count": 0,
   "metadata": {
    "application/vnd.databricks.v1+cell": {
     "cellMetadata": {
      "byteLimit": 2048000,
      "rowLimit": 10000
     },
     "inputWidgets": {},
     "nuid": "c027f91e-9b79-4c58-a991-d1a08149b24f",
     "showTitle": false,
     "title": ""
    }
   },
   "outputs": [
    {
     "output_type": "display_data",
     "data": {
      "text/html": [
       "<div>\n",
       "<style scoped>\n",
       "    .dataframe tbody tr th:only-of-type {\n",
       "        vertical-align: middle;\n",
       "    }\n",
       "\n",
       "    .dataframe tbody tr th {\n",
       "        vertical-align: top;\n",
       "    }\n",
       "\n",
       "    .dataframe thead th {\n",
       "        text-align: right;\n",
       "    }\n",
       "</style>\n",
       "<table border=\"1\" class=\"dataframe\">\n",
       "  <thead>\n",
       "    <tr style=\"text-align: right;\">\n",
       "      <th></th>\n",
       "      <th>Tipo de Datos</th>\n",
       "      <th># Registros no Nulos</th>\n",
       "      <th># Registros Distintos de Cero</th>\n",
       "      <th>% Poblado</th>\n",
       "      <th># Valores Únicos</th>\n",
       "      <th>Mean</th>\n",
       "      <th>Std</th>\n",
       "      <th>Min</th>\n",
       "      <th>Max</th>\n",
       "    </tr>\n",
       "  </thead>\n",
       "  <tbody>\n",
       "    <tr>\n",
       "      <th>LTFRONT</th>\n",
       "      <td>int64</td>\n",
       "      <td>1070994</td>\n",
       "      <td>901886</td>\n",
       "      <td>100.00</td>\n",
       "      <td>1297</td>\n",
       "      <td>36.64</td>\n",
       "      <td>74.03</td>\n",
       "      <td>0.00</td>\n",
       "      <td>9999.00</td>\n",
       "    </tr>\n",
       "    <tr>\n",
       "      <th>LTDEPTH</th>\n",
       "      <td>int64</td>\n",
       "      <td>1070994</td>\n",
       "      <td>900866</td>\n",
       "      <td>100.00</td>\n",
       "      <td>1370</td>\n",
       "      <td>88.86</td>\n",
       "      <td>76.40</td>\n",
       "      <td>0.00</td>\n",
       "      <td>9999.00</td>\n",
       "    </tr>\n",
       "    <tr>\n",
       "      <th>STORIES</th>\n",
       "      <td>float64</td>\n",
       "      <td>1014730</td>\n",
       "      <td>1070994</td>\n",
       "      <td>94.75</td>\n",
       "      <td>111</td>\n",
       "      <td>5.01</td>\n",
       "      <td>8.37</td>\n",
       "      <td>1.00</td>\n",
       "      <td>119.00</td>\n",
       "    </tr>\n",
       "    <tr>\n",
       "      <th>FULLVAL</th>\n",
       "      <td>float64</td>\n",
       "      <td>1070994</td>\n",
       "      <td>1057987</td>\n",
       "      <td>100.00</td>\n",
       "      <td>109324</td>\n",
       "      <td>874264.51</td>\n",
       "      <td>11582430.99</td>\n",
       "      <td>0.00</td>\n",
       "      <td>6150000000.00</td>\n",
       "    </tr>\n",
       "    <tr>\n",
       "      <th>AVLAND</th>\n",
       "      <td>float64</td>\n",
       "      <td>1070994</td>\n",
       "      <td>1057985</td>\n",
       "      <td>100.00</td>\n",
       "      <td>70921</td>\n",
       "      <td>85067.92</td>\n",
       "      <td>4057260.06</td>\n",
       "      <td>0.00</td>\n",
       "      <td>2668500000.00</td>\n",
       "    </tr>\n",
       "    <tr>\n",
       "      <th>AVTOT</th>\n",
       "      <td>float64</td>\n",
       "      <td>1070994</td>\n",
       "      <td>1057987</td>\n",
       "      <td>100.00</td>\n",
       "      <td>112914</td>\n",
       "      <td>227238.17</td>\n",
       "      <td>6877529.31</td>\n",
       "      <td>0.00</td>\n",
       "      <td>4668308947.00</td>\n",
       "    </tr>\n",
       "    <tr>\n",
       "      <th>EXLAND</th>\n",
       "      <td>float64</td>\n",
       "      <td>1070994</td>\n",
       "      <td>579295</td>\n",
       "      <td>100.00</td>\n",
       "      <td>33419</td>\n",
       "      <td>36423.89</td>\n",
       "      <td>3981575.79</td>\n",
       "      <td>0.00</td>\n",
       "      <td>2668500000.00</td>\n",
       "    </tr>\n",
       "    <tr>\n",
       "      <th>EXTOT</th>\n",
       "      <td>float64</td>\n",
       "      <td>1070994</td>\n",
       "      <td>638422</td>\n",
       "      <td>100.00</td>\n",
       "      <td>64255</td>\n",
       "      <td>91186.98</td>\n",
       "      <td>6508402.82</td>\n",
       "      <td>0.00</td>\n",
       "      <td>4668308947.00</td>\n",
       "    </tr>\n",
       "    <tr>\n",
       "      <th>BLDFRONT</th>\n",
       "      <td>int64</td>\n",
       "      <td>1070994</td>\n",
       "      <td>842179</td>\n",
       "      <td>100.00</td>\n",
       "      <td>612</td>\n",
       "      <td>23.04</td>\n",
       "      <td>35.58</td>\n",
       "      <td>0.00</td>\n",
       "      <td>7575.00</td>\n",
       "    </tr>\n",
       "    <tr>\n",
       "      <th>BLDDEPTH</th>\n",
       "      <td>int64</td>\n",
       "      <td>1070994</td>\n",
       "      <td>842141</td>\n",
       "      <td>100.00</td>\n",
       "      <td>621</td>\n",
       "      <td>39.92</td>\n",
       "      <td>42.71</td>\n",
       "      <td>0.00</td>\n",
       "      <td>9393.00</td>\n",
       "    </tr>\n",
       "    <tr>\n",
       "      <th>AVLAND2</th>\n",
       "      <td>float64</td>\n",
       "      <td>282726</td>\n",
       "      <td>1070994</td>\n",
       "      <td>26.40</td>\n",
       "      <td>58591</td>\n",
       "      <td>246235.72</td>\n",
       "      <td>6178962.56</td>\n",
       "      <td>3.00</td>\n",
       "      <td>2371005000.00</td>\n",
       "    </tr>\n",
       "    <tr>\n",
       "      <th>AVTOT2</th>\n",
       "      <td>float64</td>\n",
       "      <td>282732</td>\n",
       "      <td>1070994</td>\n",
       "      <td>26.40</td>\n",
       "      <td>111360</td>\n",
       "      <td>713911.44</td>\n",
       "      <td>11652528.95</td>\n",
       "      <td>3.00</td>\n",
       "      <td>4501180002.00</td>\n",
       "    </tr>\n",
       "    <tr>\n",
       "      <th>EXLAND2</th>\n",
       "      <td>float64</td>\n",
       "      <td>87449</td>\n",
       "      <td>1070994</td>\n",
       "      <td>8.17</td>\n",
       "      <td>22195</td>\n",
       "      <td>351235.68</td>\n",
       "      <td>10802212.67</td>\n",
       "      <td>1.00</td>\n",
       "      <td>2371005000.00</td>\n",
       "    </tr>\n",
       "    <tr>\n",
       "      <th>EXTOT2</th>\n",
       "      <td>float64</td>\n",
       "      <td>130828</td>\n",
       "      <td>1070994</td>\n",
       "      <td>12.22</td>\n",
       "      <td>48348</td>\n",
       "      <td>656768.28</td>\n",
       "      <td>16072510.17</td>\n",
       "      <td>7.00</td>\n",
       "      <td>4501180002.00</td>\n",
       "    </tr>\n",
       "  </tbody>\n",
       "</table>\n",
       "</div>"
      ]
     },
     "metadata": {
      "application/vnd.databricks.v1+output": {
       "addedWidgets": {},
       "arguments": {},
       "data": "<div>\n<style scoped>\n    .dataframe tbody tr th:only-of-type {\n        vertical-align: middle;\n    }\n\n    .dataframe tbody tr th {\n        vertical-align: top;\n    }\n\n    .dataframe thead th {\n        text-align: right;\n    }\n</style>\n<table border=\"1\" class=\"dataframe\">\n  <thead>\n    <tr style=\"text-align: right;\">\n      <th></th>\n      <th>Tipo de Datos</th>\n      <th># Registros no Nulos</th>\n      <th># Registros Distintos de Cero</th>\n      <th>% Poblado</th>\n      <th># Valores Únicos</th>\n      <th>Mean</th>\n      <th>Std</th>\n      <th>Min</th>\n      <th>Max</th>\n    </tr>\n  </thead>\n  <tbody>\n    <tr>\n      <th>LTFRONT</th>\n      <td>int64</td>\n      <td>1070994</td>\n      <td>901886</td>\n      <td>100.00</td>\n      <td>1297</td>\n      <td>36.64</td>\n      <td>74.03</td>\n      <td>0.00</td>\n      <td>9999.00</td>\n    </tr>\n    <tr>\n      <th>LTDEPTH</th>\n      <td>int64</td>\n      <td>1070994</td>\n      <td>900866</td>\n      <td>100.00</td>\n      <td>1370</td>\n      <td>88.86</td>\n      <td>76.40</td>\n      <td>0.00</td>\n      <td>9999.00</td>\n    </tr>\n    <tr>\n      <th>STORIES</th>\n      <td>float64</td>\n      <td>1014730</td>\n      <td>1070994</td>\n      <td>94.75</td>\n      <td>111</td>\n      <td>5.01</td>\n      <td>8.37</td>\n      <td>1.00</td>\n      <td>119.00</td>\n    </tr>\n    <tr>\n      <th>FULLVAL</th>\n      <td>float64</td>\n      <td>1070994</td>\n      <td>1057987</td>\n      <td>100.00</td>\n      <td>109324</td>\n      <td>874264.51</td>\n      <td>11582430.99</td>\n      <td>0.00</td>\n      <td>6150000000.00</td>\n    </tr>\n    <tr>\n      <th>AVLAND</th>\n      <td>float64</td>\n      <td>1070994</td>\n      <td>1057985</td>\n      <td>100.00</td>\n      <td>70921</td>\n      <td>85067.92</td>\n      <td>4057260.06</td>\n      <td>0.00</td>\n      <td>2668500000.00</td>\n    </tr>\n    <tr>\n      <th>AVTOT</th>\n      <td>float64</td>\n      <td>1070994</td>\n      <td>1057987</td>\n      <td>100.00</td>\n      <td>112914</td>\n      <td>227238.17</td>\n      <td>6877529.31</td>\n      <td>0.00</td>\n      <td>4668308947.00</td>\n    </tr>\n    <tr>\n      <th>EXLAND</th>\n      <td>float64</td>\n      <td>1070994</td>\n      <td>579295</td>\n      <td>100.00</td>\n      <td>33419</td>\n      <td>36423.89</td>\n      <td>3981575.79</td>\n      <td>0.00</td>\n      <td>2668500000.00</td>\n    </tr>\n    <tr>\n      <th>EXTOT</th>\n      <td>float64</td>\n      <td>1070994</td>\n      <td>638422</td>\n      <td>100.00</td>\n      <td>64255</td>\n      <td>91186.98</td>\n      <td>6508402.82</td>\n      <td>0.00</td>\n      <td>4668308947.00</td>\n    </tr>\n    <tr>\n      <th>BLDFRONT</th>\n      <td>int64</td>\n      <td>1070994</td>\n      <td>842179</td>\n      <td>100.00</td>\n      <td>612</td>\n      <td>23.04</td>\n      <td>35.58</td>\n      <td>0.00</td>\n      <td>7575.00</td>\n    </tr>\n    <tr>\n      <th>BLDDEPTH</th>\n      <td>int64</td>\n      <td>1070994</td>\n      <td>842141</td>\n      <td>100.00</td>\n      <td>621</td>\n      <td>39.92</td>\n      <td>42.71</td>\n      <td>0.00</td>\n      <td>9393.00</td>\n    </tr>\n    <tr>\n      <th>AVLAND2</th>\n      <td>float64</td>\n      <td>282726</td>\n      <td>1070994</td>\n      <td>26.40</td>\n      <td>58591</td>\n      <td>246235.72</td>\n      <td>6178962.56</td>\n      <td>3.00</td>\n      <td>2371005000.00</td>\n    </tr>\n    <tr>\n      <th>AVTOT2</th>\n      <td>float64</td>\n      <td>282732</td>\n      <td>1070994</td>\n      <td>26.40</td>\n      <td>111360</td>\n      <td>713911.44</td>\n      <td>11652528.95</td>\n      <td>3.00</td>\n      <td>4501180002.00</td>\n    </tr>\n    <tr>\n      <th>EXLAND2</th>\n      <td>float64</td>\n      <td>87449</td>\n      <td>1070994</td>\n      <td>8.17</td>\n      <td>22195</td>\n      <td>351235.68</td>\n      <td>10802212.67</td>\n      <td>1.00</td>\n      <td>2371005000.00</td>\n    </tr>\n    <tr>\n      <th>EXTOT2</th>\n      <td>float64</td>\n      <td>130828</td>\n      <td>1070994</td>\n      <td>12.22</td>\n      <td>48348</td>\n      <td>656768.28</td>\n      <td>16072510.17</td>\n      <td>7.00</td>\n      <td>4501180002.00</td>\n    </tr>\n  </tbody>\n</table>\n</div>",
       "datasetInfos": [],
       "metadata": {},
       "removedWidgets": [],
       "textData": null,
       "type": "htmlSandbox"
      }
     },
     "output_type": "display_data"
    }
   ],
   "source": [
    "# Resumen estadístico de variables numéricas.\n",
    "summ_num = pd.DataFrame(index = df_num.columns)\n",
    "summ_num['Tipo de Datos'] = df_num.dtypes.values\n",
    "summ_num['# Registros no Nulos'] = df_num.count().values\n",
    "summ_num['# Registros Distintos de Cero'] = df_num.astype(bool).sum(axis = 0)\n",
    "summ_num['% Poblado'] = round(summ_num['# Registros no Nulos'] / df_num.shape[0]*100,2)\n",
    "summ_num['# Valores Únicos'] = df_num.nunique().values\n",
    "summ_num['Mean'] = round(df_num.mean(),2)\n",
    "summ_num['Std'] = round(df_num.std(),2)\n",
    "summ_num['Min'] = round(df_num.min(),2)\n",
    "summ_num['Max'] = round(df_num.max(),2)\n",
    "summ_num"
   ]
  },
  {
   "cell_type": "code",
   "execution_count": 0,
   "metadata": {
    "application/vnd.databricks.v1+cell": {
     "cellMetadata": {
      "byteLimit": 2048000,
      "rowLimit": 10000
     },
     "inputWidgets": {},
     "nuid": "133d20b4-f100-4d11-bed0-8f0d90eb733b",
     "showTitle": false,
     "title": ""
    }
   },
   "outputs": [],
   "source": [
    "# Resumen estadístico de variables categóricas.\n",
    "summ_cat = pd.DataFrame(index = df_cat.columns)\n",
    "summ_cat['Tipo de Datos'] = df_cat.dtypes.values\n",
    "summ_cat['# Registros no Nulos'] = df_cat.count().values\n",
    "summ_cat['% Poblado'] = round(summ_cat['# Registros no Nulos'] / df_cat.shape[0]*100,2)\n",
    "summ_cat['# Valores Únicos'] = df_cat.nunique().values"
   ]
  },
  {
   "cell_type": "code",
   "execution_count": 0,
   "metadata": {
    "application/vnd.databricks.v1+cell": {
     "cellMetadata": {
      "byteLimit": 2048000,
      "rowLimit": 10000
     },
     "inputWidgets": {},
     "nuid": "c64552ad-a7ed-490b-a20e-c8ef83ac82f7",
     "showTitle": false,
     "title": ""
    }
   },
   "outputs": [],
   "source": [
    "# Agregue otra columna con valores más comunes\n",
    "temp = []\n",
    "for col in cat_cols:\n",
    "    temp.append(df_cat[col].value_counts().idxmax())\n",
    "summ_cat['Valores más Comunes'] = temp"
   ]
  },
  {
   "cell_type": "code",
   "execution_count": 0,
   "metadata": {
    "application/vnd.databricks.v1+cell": {
     "cellMetadata": {
      "byteLimit": 2048000,
      "rowLimit": 10000
     },
     "inputWidgets": {},
     "nuid": "c94c2c76-78cb-4495-b82c-ad75c5d7a315",
     "showTitle": false,
     "title": ""
    }
   },
   "outputs": [
    {
     "output_type": "display_data",
     "data": {
      "text/html": [
       "<div>\n",
       "<style scoped>\n",
       "    .dataframe tbody tr th:only-of-type {\n",
       "        vertical-align: middle;\n",
       "    }\n",
       "\n",
       "    .dataframe tbody tr th {\n",
       "        vertical-align: top;\n",
       "    }\n",
       "\n",
       "    .dataframe thead th {\n",
       "        text-align: right;\n",
       "    }\n",
       "</style>\n",
       "<table border=\"1\" class=\"dataframe\">\n",
       "  <thead>\n",
       "    <tr style=\"text-align: right;\">\n",
       "      <th></th>\n",
       "      <th>Tipo de Datos</th>\n",
       "      <th># Registros no Nulos</th>\n",
       "      <th>% Poblado</th>\n",
       "      <th># Valores Únicos</th>\n",
       "      <th>Valores más Comunes</th>\n",
       "    </tr>\n",
       "  </thead>\n",
       "  <tbody>\n",
       "    <tr>\n",
       "      <th>BBLE</th>\n",
       "      <td>object</td>\n",
       "      <td>1070994</td>\n",
       "      <td>100.00</td>\n",
       "      <td>1070994</td>\n",
       "      <td>1000010101</td>\n",
       "    </tr>\n",
       "    <tr>\n",
       "      <th>B</th>\n",
       "      <td>int64</td>\n",
       "      <td>1070994</td>\n",
       "      <td>100.00</td>\n",
       "      <td>5</td>\n",
       "      <td>4</td>\n",
       "    </tr>\n",
       "    <tr>\n",
       "      <th>BLOCK</th>\n",
       "      <td>int64</td>\n",
       "      <td>1070994</td>\n",
       "      <td>100.00</td>\n",
       "      <td>13984</td>\n",
       "      <td>3944</td>\n",
       "    </tr>\n",
       "    <tr>\n",
       "      <th>LOT</th>\n",
       "      <td>int64</td>\n",
       "      <td>1070994</td>\n",
       "      <td>100.00</td>\n",
       "      <td>6366</td>\n",
       "      <td>1</td>\n",
       "    </tr>\n",
       "    <tr>\n",
       "      <th>EASEMENT</th>\n",
       "      <td>object</td>\n",
       "      <td>4636</td>\n",
       "      <td>0.43</td>\n",
       "      <td>12</td>\n",
       "      <td>E</td>\n",
       "    </tr>\n",
       "    <tr>\n",
       "      <th>OWNER</th>\n",
       "      <td>object</td>\n",
       "      <td>1039249</td>\n",
       "      <td>97.04</td>\n",
       "      <td>863346</td>\n",
       "      <td>PARKCHESTER PRESERVAT</td>\n",
       "    </tr>\n",
       "    <tr>\n",
       "      <th>BLDGCL</th>\n",
       "      <td>object</td>\n",
       "      <td>1070994</td>\n",
       "      <td>100.00</td>\n",
       "      <td>200</td>\n",
       "      <td>R4</td>\n",
       "    </tr>\n",
       "    <tr>\n",
       "      <th>TAXCLASS</th>\n",
       "      <td>object</td>\n",
       "      <td>1070994</td>\n",
       "      <td>100.00</td>\n",
       "      <td>11</td>\n",
       "      <td>1</td>\n",
       "    </tr>\n",
       "    <tr>\n",
       "      <th>EXT</th>\n",
       "      <td>object</td>\n",
       "      <td>354305</td>\n",
       "      <td>33.08</td>\n",
       "      <td>3</td>\n",
       "      <td>G</td>\n",
       "    </tr>\n",
       "    <tr>\n",
       "      <th>EXCD1</th>\n",
       "      <td>float64</td>\n",
       "      <td>638488</td>\n",
       "      <td>59.62</td>\n",
       "      <td>129</td>\n",
       "      <td>1017.00</td>\n",
       "    </tr>\n",
       "    <tr>\n",
       "      <th>STADDR</th>\n",
       "      <td>object</td>\n",
       "      <td>1070318</td>\n",
       "      <td>99.94</td>\n",
       "      <td>839280</td>\n",
       "      <td>501 SURF AVENUE</td>\n",
       "    </tr>\n",
       "    <tr>\n",
       "      <th>ZIP</th>\n",
       "      <td>float64</td>\n",
       "      <td>1041104</td>\n",
       "      <td>97.21</td>\n",
       "      <td>196</td>\n",
       "      <td>10314.00</td>\n",
       "    </tr>\n",
       "    <tr>\n",
       "      <th>EXMPTCL</th>\n",
       "      <td>object</td>\n",
       "      <td>15579</td>\n",
       "      <td>1.45</td>\n",
       "      <td>14</td>\n",
       "      <td>X1</td>\n",
       "    </tr>\n",
       "    <tr>\n",
       "      <th>EXCD2</th>\n",
       "      <td>float64</td>\n",
       "      <td>92948</td>\n",
       "      <td>8.68</td>\n",
       "      <td>60</td>\n",
       "      <td>1017.00</td>\n",
       "    </tr>\n",
       "    <tr>\n",
       "      <th>PERIOD</th>\n",
       "      <td>object</td>\n",
       "      <td>1070994</td>\n",
       "      <td>100.00</td>\n",
       "      <td>1</td>\n",
       "      <td>FINAL</td>\n",
       "    </tr>\n",
       "    <tr>\n",
       "      <th>YEAR</th>\n",
       "      <td>object</td>\n",
       "      <td>1070994</td>\n",
       "      <td>100.00</td>\n",
       "      <td>1</td>\n",
       "      <td>2010/11</td>\n",
       "    </tr>\n",
       "    <tr>\n",
       "      <th>VALTYPE</th>\n",
       "      <td>object</td>\n",
       "      <td>1070994</td>\n",
       "      <td>100.00</td>\n",
       "      <td>1</td>\n",
       "      <td>AC-TR</td>\n",
       "    </tr>\n",
       "  </tbody>\n",
       "</table>\n",
       "</div>"
      ]
     },
     "metadata": {
      "application/vnd.databricks.v1+output": {
       "addedWidgets": {},
       "arguments": {},
       "data": "<div>\n<style scoped>\n    .dataframe tbody tr th:only-of-type {\n        vertical-align: middle;\n    }\n\n    .dataframe tbody tr th {\n        vertical-align: top;\n    }\n\n    .dataframe thead th {\n        text-align: right;\n    }\n</style>\n<table border=\"1\" class=\"dataframe\">\n  <thead>\n    <tr style=\"text-align: right;\">\n      <th></th>\n      <th>Tipo de Datos</th>\n      <th># Registros no Nulos</th>\n      <th>% Poblado</th>\n      <th># Valores Únicos</th>\n      <th>Valores más Comunes</th>\n    </tr>\n  </thead>\n  <tbody>\n    <tr>\n      <th>BBLE</th>\n      <td>object</td>\n      <td>1070994</td>\n      <td>100.00</td>\n      <td>1070994</td>\n      <td>1000010101</td>\n    </tr>\n    <tr>\n      <th>B</th>\n      <td>int64</td>\n      <td>1070994</td>\n      <td>100.00</td>\n      <td>5</td>\n      <td>4</td>\n    </tr>\n    <tr>\n      <th>BLOCK</th>\n      <td>int64</td>\n      <td>1070994</td>\n      <td>100.00</td>\n      <td>13984</td>\n      <td>3944</td>\n    </tr>\n    <tr>\n      <th>LOT</th>\n      <td>int64</td>\n      <td>1070994</td>\n      <td>100.00</td>\n      <td>6366</td>\n      <td>1</td>\n    </tr>\n    <tr>\n      <th>EASEMENT</th>\n      <td>object</td>\n      <td>4636</td>\n      <td>0.43</td>\n      <td>12</td>\n      <td>E</td>\n    </tr>\n    <tr>\n      <th>OWNER</th>\n      <td>object</td>\n      <td>1039249</td>\n      <td>97.04</td>\n      <td>863346</td>\n      <td>PARKCHESTER PRESERVAT</td>\n    </tr>\n    <tr>\n      <th>BLDGCL</th>\n      <td>object</td>\n      <td>1070994</td>\n      <td>100.00</td>\n      <td>200</td>\n      <td>R4</td>\n    </tr>\n    <tr>\n      <th>TAXCLASS</th>\n      <td>object</td>\n      <td>1070994</td>\n      <td>100.00</td>\n      <td>11</td>\n      <td>1</td>\n    </tr>\n    <tr>\n      <th>EXT</th>\n      <td>object</td>\n      <td>354305</td>\n      <td>33.08</td>\n      <td>3</td>\n      <td>G</td>\n    </tr>\n    <tr>\n      <th>EXCD1</th>\n      <td>float64</td>\n      <td>638488</td>\n      <td>59.62</td>\n      <td>129</td>\n      <td>1017.00</td>\n    </tr>\n    <tr>\n      <th>STADDR</th>\n      <td>object</td>\n      <td>1070318</td>\n      <td>99.94</td>\n      <td>839280</td>\n      <td>501 SURF AVENUE</td>\n    </tr>\n    <tr>\n      <th>ZIP</th>\n      <td>float64</td>\n      <td>1041104</td>\n      <td>97.21</td>\n      <td>196</td>\n      <td>10314.00</td>\n    </tr>\n    <tr>\n      <th>EXMPTCL</th>\n      <td>object</td>\n      <td>15579</td>\n      <td>1.45</td>\n      <td>14</td>\n      <td>X1</td>\n    </tr>\n    <tr>\n      <th>EXCD2</th>\n      <td>float64</td>\n      <td>92948</td>\n      <td>8.68</td>\n      <td>60</td>\n      <td>1017.00</td>\n    </tr>\n    <tr>\n      <th>PERIOD</th>\n      <td>object</td>\n      <td>1070994</td>\n      <td>100.00</td>\n      <td>1</td>\n      <td>FINAL</td>\n    </tr>\n    <tr>\n      <th>YEAR</th>\n      <td>object</td>\n      <td>1070994</td>\n      <td>100.00</td>\n      <td>1</td>\n      <td>2010/11</td>\n    </tr>\n    <tr>\n      <th>VALTYPE</th>\n      <td>object</td>\n      <td>1070994</td>\n      <td>100.00</td>\n      <td>1</td>\n      <td>AC-TR</td>\n    </tr>\n  </tbody>\n</table>\n</div>",
       "datasetInfos": [],
       "metadata": {},
       "removedWidgets": [],
       "textData": null,
       "type": "htmlSandbox"
      }
     },
     "output_type": "display_data"
    }
   ],
   "source": [
    "summ_cat"
   ]
  },
  {
   "cell_type": "markdown",
   "metadata": {
    "application/vnd.databricks.v1+cell": {
     "cellMetadata": {
      "byteLimit": 2048000,
      "rowLimit": 10000
     },
     "inputWidgets": {},
     "nuid": "9e3592a2-5feb-4a63-8298-0bf577f3a32c",
     "showTitle": false,
     "title": ""
    }
   },
   "source": [
    "## Identificación, Exploración y Visualización de Variables"
   ]
  },
  {
   "cell_type": "code",
   "execution_count": 0,
   "metadata": {
    "application/vnd.databricks.v1+cell": {
     "cellMetadata": {
      "byteLimit": 2048000,
      "rowLimit": 10000
     },
     "inputWidgets": {},
     "nuid": "6ed9a448-86a3-4114-b9fc-fee7a19678f6",
     "showTitle": false,
     "title": ""
    }
   },
   "outputs": [
    {
     "output_type": "stream",
     "name": "stdout",
     "output_type": "stream",
     "text": [
      "Out[18]: Index(['BBLE', 'B', 'BLOCK', 'LOT', 'EASEMENT', 'OWNER', 'BLDGCL', 'TAXCLASS',\n       'LTFRONT', 'LTDEPTH', 'EXT', 'STORIES', 'FULLVAL', 'AVLAND', 'AVTOT',\n       'EXLAND', 'EXTOT', 'EXCD1', 'STADDR', 'ZIP', 'EXMPTCL', 'BLDFRONT',\n       'BLDDEPTH', 'AVLAND2', 'AVTOT2', 'EXLAND2', 'EXTOT2', 'EXCD2', 'PERIOD',\n       'YEAR', 'VALTYPE'],\n      dtype='object')"
     ]
    }
   ],
   "source": [
    "# Variables\n",
    "dados.columns"
   ]
  },
  {
   "cell_type": "code",
   "execution_count": 0,
   "metadata": {
    "application/vnd.databricks.v1+cell": {
     "cellMetadata": {
      "byteLimit": 2048000,
      "rowLimit": 10000
     },
     "inputWidgets": {},
     "nuid": "ce17bf6a-7bc2-444e-b1f5-c9d258eb7b65",
     "showTitle": false,
     "title": ""
    }
   },
   "outputs": [
    {
     "output_type": "display_data",
     "data": {
      "text/html": [
       "<div>\n",
       "<style scoped>\n",
       "    .dataframe tbody tr th:only-of-type {\n",
       "        vertical-align: middle;\n",
       "    }\n",
       "\n",
       "    .dataframe tbody tr th {\n",
       "        vertical-align: top;\n",
       "    }\n",
       "\n",
       "    .dataframe thead th {\n",
       "        text-align: right;\n",
       "    }\n",
       "</style>\n",
       "<table border=\"1\" class=\"dataframe\">\n",
       "  <thead>\n",
       "    <tr style=\"text-align: right;\">\n",
       "      <th></th>\n",
       "      <th>BBLE</th>\n",
       "      <th>B</th>\n",
       "      <th>BLOCK</th>\n",
       "      <th>LOT</th>\n",
       "      <th>EASEMENT</th>\n",
       "      <th>OWNER</th>\n",
       "      <th>BLDGCL</th>\n",
       "      <th>TAXCLASS</th>\n",
       "      <th>LTFRONT</th>\n",
       "      <th>LTDEPTH</th>\n",
       "      <th>EXT</th>\n",
       "      <th>STORIES</th>\n",
       "      <th>FULLVAL</th>\n",
       "      <th>AVLAND</th>\n",
       "      <th>AVTOT</th>\n",
       "      <th>EXLAND</th>\n",
       "      <th>EXTOT</th>\n",
       "      <th>EXCD1</th>\n",
       "      <th>STADDR</th>\n",
       "      <th>ZIP</th>\n",
       "      <th>EXMPTCL</th>\n",
       "      <th>BLDFRONT</th>\n",
       "      <th>BLDDEPTH</th>\n",
       "      <th>AVLAND2</th>\n",
       "      <th>AVTOT2</th>\n",
       "      <th>EXLAND2</th>\n",
       "      <th>EXTOT2</th>\n",
       "      <th>EXCD2</th>\n",
       "      <th>PERIOD</th>\n",
       "      <th>YEAR</th>\n",
       "      <th>VALTYPE</th>\n",
       "    </tr>\n",
       "    <tr>\n",
       "      <th>RECORD</th>\n",
       "      <th></th>\n",
       "      <th></th>\n",
       "      <th></th>\n",
       "      <th></th>\n",
       "      <th></th>\n",
       "      <th></th>\n",
       "      <th></th>\n",
       "      <th></th>\n",
       "      <th></th>\n",
       "      <th></th>\n",
       "      <th></th>\n",
       "      <th></th>\n",
       "      <th></th>\n",
       "      <th></th>\n",
       "      <th></th>\n",
       "      <th></th>\n",
       "      <th></th>\n",
       "      <th></th>\n",
       "      <th></th>\n",
       "      <th></th>\n",
       "      <th></th>\n",
       "      <th></th>\n",
       "      <th></th>\n",
       "      <th></th>\n",
       "      <th></th>\n",
       "      <th></th>\n",
       "      <th></th>\n",
       "      <th></th>\n",
       "      <th></th>\n",
       "      <th></th>\n",
       "      <th></th>\n",
       "    </tr>\n",
       "  </thead>\n",
       "  <tbody>\n",
       "    <tr>\n",
       "      <th>1</th>\n",
       "      <td>1000010101</td>\n",
       "      <td>1</td>\n",
       "      <td>1</td>\n",
       "      <td>101</td>\n",
       "      <td>NaN</td>\n",
       "      <td>U S GOVT LAND &amp; BLDGS</td>\n",
       "      <td>P7</td>\n",
       "      <td>4</td>\n",
       "      <td>500</td>\n",
       "      <td>1046</td>\n",
       "      <td>NaN</td>\n",
       "      <td>NaN</td>\n",
       "      <td>21400000.00</td>\n",
       "      <td>4225500.00</td>\n",
       "      <td>9630000.00</td>\n",
       "      <td>4225500.00</td>\n",
       "      <td>9630000.00</td>\n",
       "      <td>4600.00</td>\n",
       "      <td>1 LIBERTY ISLAND</td>\n",
       "      <td>10004.00</td>\n",
       "      <td>X3</td>\n",
       "      <td>0</td>\n",
       "      <td>0</td>\n",
       "      <td>3775500.00</td>\n",
       "      <td>8613000.00</td>\n",
       "      <td>3775500.00</td>\n",
       "      <td>8613000.00</td>\n",
       "      <td>NaN</td>\n",
       "      <td>FINAL</td>\n",
       "      <td>2010/11</td>\n",
       "      <td>AC-TR</td>\n",
       "    </tr>\n",
       "    <tr>\n",
       "      <th>2</th>\n",
       "      <td>1000010201</td>\n",
       "      <td>1</td>\n",
       "      <td>1</td>\n",
       "      <td>201</td>\n",
       "      <td>NaN</td>\n",
       "      <td>U S GOVT LAND &amp; BLDGS</td>\n",
       "      <td>Z9</td>\n",
       "      <td>4</td>\n",
       "      <td>27</td>\n",
       "      <td>0</td>\n",
       "      <td>NaN</td>\n",
       "      <td>NaN</td>\n",
       "      <td>193800000.00</td>\n",
       "      <td>14310000.00</td>\n",
       "      <td>87210000.00</td>\n",
       "      <td>14310000.00</td>\n",
       "      <td>87210000.00</td>\n",
       "      <td>4600.00</td>\n",
       "      <td>1 ELLIS ISLAND</td>\n",
       "      <td>10004.00</td>\n",
       "      <td>X3</td>\n",
       "      <td>0</td>\n",
       "      <td>0</td>\n",
       "      <td>11111400.00</td>\n",
       "      <td>80690400.00</td>\n",
       "      <td>11111400.00</td>\n",
       "      <td>80690400.00</td>\n",
       "      <td>NaN</td>\n",
       "      <td>FINAL</td>\n",
       "      <td>2010/11</td>\n",
       "      <td>AC-TR</td>\n",
       "    </tr>\n",
       "    <tr>\n",
       "      <th>3</th>\n",
       "      <td>1000020001</td>\n",
       "      <td>1</td>\n",
       "      <td>2</td>\n",
       "      <td>1</td>\n",
       "      <td>NaN</td>\n",
       "      <td>DEPT OF GENERAL SERVI</td>\n",
       "      <td>Y7</td>\n",
       "      <td>4</td>\n",
       "      <td>709</td>\n",
       "      <td>564</td>\n",
       "      <td>E</td>\n",
       "      <td>3.00</td>\n",
       "      <td>104686000.00</td>\n",
       "      <td>39008700.00</td>\n",
       "      <td>47108700.00</td>\n",
       "      <td>39008700.00</td>\n",
       "      <td>47108700.00</td>\n",
       "      <td>2191.00</td>\n",
       "      <td>MARGINAL STREET</td>\n",
       "      <td>10004.00</td>\n",
       "      <td>X1</td>\n",
       "      <td>709</td>\n",
       "      <td>564</td>\n",
       "      <td>32321790.00</td>\n",
       "      <td>40179510.00</td>\n",
       "      <td>32321790.00</td>\n",
       "      <td>40179510.00</td>\n",
       "      <td>NaN</td>\n",
       "      <td>FINAL</td>\n",
       "      <td>2010/11</td>\n",
       "      <td>AC-TR</td>\n",
       "    </tr>\n",
       "    <tr>\n",
       "      <th>4</th>\n",
       "      <td>1000020023</td>\n",
       "      <td>1</td>\n",
       "      <td>2</td>\n",
       "      <td>23</td>\n",
       "      <td>NaN</td>\n",
       "      <td>DEPARTMENT OF BUSINES</td>\n",
       "      <td>T2</td>\n",
       "      <td>4</td>\n",
       "      <td>793</td>\n",
       "      <td>551</td>\n",
       "      <td>NaN</td>\n",
       "      <td>2.00</td>\n",
       "      <td>39200000.00</td>\n",
       "      <td>15255000.00</td>\n",
       "      <td>17640000.00</td>\n",
       "      <td>15255000.00</td>\n",
       "      <td>17640000.00</td>\n",
       "      <td>2191.00</td>\n",
       "      <td>PIER 6</td>\n",
       "      <td>10004.00</td>\n",
       "      <td>X1</td>\n",
       "      <td>85</td>\n",
       "      <td>551</td>\n",
       "      <td>13644000.00</td>\n",
       "      <td>15750000.00</td>\n",
       "      <td>13644000.00</td>\n",
       "      <td>15750000.00</td>\n",
       "      <td>NaN</td>\n",
       "      <td>FINAL</td>\n",
       "      <td>2010/11</td>\n",
       "      <td>AC-TR</td>\n",
       "    </tr>\n",
       "    <tr>\n",
       "      <th>5</th>\n",
       "      <td>1000030001</td>\n",
       "      <td>1</td>\n",
       "      <td>3</td>\n",
       "      <td>1</td>\n",
       "      <td>NaN</td>\n",
       "      <td>PARKS AND RECREATION</td>\n",
       "      <td>Q1</td>\n",
       "      <td>4</td>\n",
       "      <td>323</td>\n",
       "      <td>1260</td>\n",
       "      <td>NaN</td>\n",
       "      <td>1.00</td>\n",
       "      <td>272300000.00</td>\n",
       "      <td>121050000.00</td>\n",
       "      <td>122535000.00</td>\n",
       "      <td>121050000.00</td>\n",
       "      <td>122535000.00</td>\n",
       "      <td>2231.00</td>\n",
       "      <td>BATTERY PARK</td>\n",
       "      <td>10004.00</td>\n",
       "      <td>X1</td>\n",
       "      <td>89</td>\n",
       "      <td>57</td>\n",
       "      <td>106348680.00</td>\n",
       "      <td>107758350.00</td>\n",
       "      <td>106348680.00</td>\n",
       "      <td>107758350.00</td>\n",
       "      <td>NaN</td>\n",
       "      <td>FINAL</td>\n",
       "      <td>2010/11</td>\n",
       "      <td>AC-TR</td>\n",
       "    </tr>\n",
       "  </tbody>\n",
       "</table>\n",
       "</div>"
      ]
     },
     "metadata": {
      "application/vnd.databricks.v1+output": {
       "addedWidgets": {},
       "arguments": {},
       "data": "<div>\n<style scoped>\n    .dataframe tbody tr th:only-of-type {\n        vertical-align: middle;\n    }\n\n    .dataframe tbody tr th {\n        vertical-align: top;\n    }\n\n    .dataframe thead th {\n        text-align: right;\n    }\n</style>\n<table border=\"1\" class=\"dataframe\">\n  <thead>\n    <tr style=\"text-align: right;\">\n      <th></th>\n      <th>BBLE</th>\n      <th>B</th>\n      <th>BLOCK</th>\n      <th>LOT</th>\n      <th>EASEMENT</th>\n      <th>OWNER</th>\n      <th>BLDGCL</th>\n      <th>TAXCLASS</th>\n      <th>LTFRONT</th>\n      <th>LTDEPTH</th>\n      <th>EXT</th>\n      <th>STORIES</th>\n      <th>FULLVAL</th>\n      <th>AVLAND</th>\n      <th>AVTOT</th>\n      <th>EXLAND</th>\n      <th>EXTOT</th>\n      <th>EXCD1</th>\n      <th>STADDR</th>\n      <th>ZIP</th>\n      <th>EXMPTCL</th>\n      <th>BLDFRONT</th>\n      <th>BLDDEPTH</th>\n      <th>AVLAND2</th>\n      <th>AVTOT2</th>\n      <th>EXLAND2</th>\n      <th>EXTOT2</th>\n      <th>EXCD2</th>\n      <th>PERIOD</th>\n      <th>YEAR</th>\n      <th>VALTYPE</th>\n    </tr>\n    <tr>\n      <th>RECORD</th>\n      <th></th>\n      <th></th>\n      <th></th>\n      <th></th>\n      <th></th>\n      <th></th>\n      <th></th>\n      <th></th>\n      <th></th>\n      <th></th>\n      <th></th>\n      <th></th>\n      <th></th>\n      <th></th>\n      <th></th>\n      <th></th>\n      <th></th>\n      <th></th>\n      <th></th>\n      <th></th>\n      <th></th>\n      <th></th>\n      <th></th>\n      <th></th>\n      <th></th>\n      <th></th>\n      <th></th>\n      <th></th>\n      <th></th>\n      <th></th>\n      <th></th>\n    </tr>\n  </thead>\n  <tbody>\n    <tr>\n      <th>1</th>\n      <td>1000010101</td>\n      <td>1</td>\n      <td>1</td>\n      <td>101</td>\n      <td>NaN</td>\n      <td>U S GOVT LAND &amp; BLDGS</td>\n      <td>P7</td>\n      <td>4</td>\n      <td>500</td>\n      <td>1046</td>\n      <td>NaN</td>\n      <td>NaN</td>\n      <td>21400000.00</td>\n      <td>4225500.00</td>\n      <td>9630000.00</td>\n      <td>4225500.00</td>\n      <td>9630000.00</td>\n      <td>4600.00</td>\n      <td>1 LIBERTY ISLAND</td>\n      <td>10004.00</td>\n      <td>X3</td>\n      <td>0</td>\n      <td>0</td>\n      <td>3775500.00</td>\n      <td>8613000.00</td>\n      <td>3775500.00</td>\n      <td>8613000.00</td>\n      <td>NaN</td>\n      <td>FINAL</td>\n      <td>2010/11</td>\n      <td>AC-TR</td>\n    </tr>\n    <tr>\n      <th>2</th>\n      <td>1000010201</td>\n      <td>1</td>\n      <td>1</td>\n      <td>201</td>\n      <td>NaN</td>\n      <td>U S GOVT LAND &amp; BLDGS</td>\n      <td>Z9</td>\n      <td>4</td>\n      <td>27</td>\n      <td>0</td>\n      <td>NaN</td>\n      <td>NaN</td>\n      <td>193800000.00</td>\n      <td>14310000.00</td>\n      <td>87210000.00</td>\n      <td>14310000.00</td>\n      <td>87210000.00</td>\n      <td>4600.00</td>\n      <td>1 ELLIS ISLAND</td>\n      <td>10004.00</td>\n      <td>X3</td>\n      <td>0</td>\n      <td>0</td>\n      <td>11111400.00</td>\n      <td>80690400.00</td>\n      <td>11111400.00</td>\n      <td>80690400.00</td>\n      <td>NaN</td>\n      <td>FINAL</td>\n      <td>2010/11</td>\n      <td>AC-TR</td>\n    </tr>\n    <tr>\n      <th>3</th>\n      <td>1000020001</td>\n      <td>1</td>\n      <td>2</td>\n      <td>1</td>\n      <td>NaN</td>\n      <td>DEPT OF GENERAL SERVI</td>\n      <td>Y7</td>\n      <td>4</td>\n      <td>709</td>\n      <td>564</td>\n      <td>E</td>\n      <td>3.00</td>\n      <td>104686000.00</td>\n      <td>39008700.00</td>\n      <td>47108700.00</td>\n      <td>39008700.00</td>\n      <td>47108700.00</td>\n      <td>2191.00</td>\n      <td>MARGINAL STREET</td>\n      <td>10004.00</td>\n      <td>X1</td>\n      <td>709</td>\n      <td>564</td>\n      <td>32321790.00</td>\n      <td>40179510.00</td>\n      <td>32321790.00</td>\n      <td>40179510.00</td>\n      <td>NaN</td>\n      <td>FINAL</td>\n      <td>2010/11</td>\n      <td>AC-TR</td>\n    </tr>\n    <tr>\n      <th>4</th>\n      <td>1000020023</td>\n      <td>1</td>\n      <td>2</td>\n      <td>23</td>\n      <td>NaN</td>\n      <td>DEPARTMENT OF BUSINES</td>\n      <td>T2</td>\n      <td>4</td>\n      <td>793</td>\n      <td>551</td>\n      <td>NaN</td>\n      <td>2.00</td>\n      <td>39200000.00</td>\n      <td>15255000.00</td>\n      <td>17640000.00</td>\n      <td>15255000.00</td>\n      <td>17640000.00</td>\n      <td>2191.00</td>\n      <td>PIER 6</td>\n      <td>10004.00</td>\n      <td>X1</td>\n      <td>85</td>\n      <td>551</td>\n      <td>13644000.00</td>\n      <td>15750000.00</td>\n      <td>13644000.00</td>\n      <td>15750000.00</td>\n      <td>NaN</td>\n      <td>FINAL</td>\n      <td>2010/11</td>\n      <td>AC-TR</td>\n    </tr>\n    <tr>\n      <th>5</th>\n      <td>1000030001</td>\n      <td>1</td>\n      <td>3</td>\n      <td>1</td>\n      <td>NaN</td>\n      <td>PARKS AND RECREATION</td>\n      <td>Q1</td>\n      <td>4</td>\n      <td>323</td>\n      <td>1260</td>\n      <td>NaN</td>\n      <td>1.00</td>\n      <td>272300000.00</td>\n      <td>121050000.00</td>\n      <td>122535000.00</td>\n      <td>121050000.00</td>\n      <td>122535000.00</td>\n      <td>2231.00</td>\n      <td>BATTERY PARK</td>\n      <td>10004.00</td>\n      <td>X1</td>\n      <td>89</td>\n      <td>57</td>\n      <td>106348680.00</td>\n      <td>107758350.00</td>\n      <td>106348680.00</td>\n      <td>107758350.00</td>\n      <td>NaN</td>\n      <td>FINAL</td>\n      <td>2010/11</td>\n      <td>AC-TR</td>\n    </tr>\n  </tbody>\n</table>\n</div>",
       "datasetInfos": [],
       "metadata": {},
       "removedWidgets": [],
       "textData": null,
       "type": "htmlSandbox"
      }
     },
     "output_type": "display_data"
    }
   ],
   "source": [
    "# Vista\n",
    "dados.head()"
   ]
  },
  {
   "cell_type": "markdown",
   "metadata": {
    "application/vnd.databricks.v1+cell": {
     "cellMetadata": {
      "byteLimit": 2048000,
      "rowLimit": 10000
     },
     "inputWidgets": {},
     "nuid": "3d71adb9-16f6-4ee2-8d5a-4c7037c7b194",
     "showTitle": false,
     "title": ""
    }
   },
   "source": [
    "**Variable 1** \\\n",
    "Nombre de variable: BBLE\\\n",
    "Descripción: Concatenación de código de municipio, código de bloque, código de LOT; un número único para cada registro."
   ]
  },
  {
   "cell_type": "markdown",
   "metadata": {
    "application/vnd.databricks.v1+cell": {
     "cellMetadata": {
      "byteLimit": 2048000,
      "rowLimit": 10000
     },
     "inputWidgets": {},
     "nuid": "c822db97-6e0f-4c39-b6f8-4ea207013045",
     "showTitle": false,
     "title": ""
    }
   },
   "source": [
    "**Variable 2** \\\n",
    "Nombre de variable: B\\\n",
    "Descripción: Códigos municipales"
   ]
  },
  {
   "cell_type": "code",
   "execution_count": 0,
   "metadata": {
    "application/vnd.databricks.v1+cell": {
     "cellMetadata": {
      "byteLimit": 2048000,
      "rowLimit": 10000
     },
     "inputWidgets": {},
     "nuid": "fa7ca368-9e5f-459a-aaa6-346dd24f74c0",
     "showTitle": false,
     "title": ""
    }
   },
   "outputs": [
    {
     "output_type": "stream",
     "name": "stdout",
     "output_type": "stream",
     "text": [
      "Out[20]: Text(0.5, 1.0, 'Número de Propiedades en Diferentes Barrios')"
     ]
    },
    {
     "output_type": "display_data",
     "data": {
      "image/png": "[encoded data removed]"
     },
     "metadata": {
      "application/vnd.databricks.v1+output": {
       "addedWidgets": {},
       "arguments": {},
       "data": "data:image/png;base64,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\n",
       "datasetInfos": [],
       "metadata": {},
       "removedWidgets": [],
       "type": "image"
      }
     },
     "output_type": "display_data"
    }
   ],
   "source": [
    "# Visualización de la variable 2\n",
    "sns.set_theme(style = 'whitegrid')\n",
    "plt.figure(figsize = (12, 6))\n",
    "fig1 = sns.countplot(x = 'B', data = dados, order = dados['B'].value_counts().index)\n",
    "plt.title(\"Número de Propiedades en Diferentes Barrios\")"
   ]
  },
  {
   "cell_type": "markdown",
   "metadata": {
    "application/vnd.databricks.v1+cell": {
     "cellMetadata": {
      "byteLimit": 2048000,
      "rowLimit": 10000
     },
     "inputWidgets": {},
     "nuid": "a76d3107-d41a-4281-af88-fdae47eb1158",
     "showTitle": false,
     "title": ""
    }
   },
   "source": [
    "**Variables 3** \\\n",
    "Nombre de variable: BLOCK \\\n",
    "Descripción: Número de hasta 5 dígitos que representan códigos de cuadra en diferentes barrios"
   ]
  },
  {
   "cell_type": "code",
   "execution_count": 0,
   "metadata": {
    "application/vnd.databricks.v1+cell": {
     "cellMetadata": {
      "byteLimit": 2048000,
      "rowLimit": 10000
     },
     "inputWidgets": {},
     "nuid": "e5b4c88e-dadb-4dd5-8ab2-e6ab61d477df",
     "showTitle": false,
     "title": ""
    }
   },
   "outputs": [
    {
     "output_type": "display_data",
     "data": {
      "text/html": [
       "<div>\n",
       "<style scoped>\n",
       "    .dataframe tbody tr th:only-of-type {\n",
       "        vertical-align: middle;\n",
       "    }\n",
       "\n",
       "    .dataframe tbody tr th {\n",
       "        vertical-align: top;\n",
       "    }\n",
       "\n",
       "    .dataframe thead th {\n",
       "        text-align: right;\n",
       "    }\n",
       "</style>\n",
       "<table border=\"1\" class=\"dataframe\">\n",
       "  <thead>\n",
       "    <tr style=\"text-align: right;\">\n",
       "      <th></th>\n",
       "      <th>Unique_values_BLOCK</th>\n",
       "      <th>Counts</th>\n",
       "    </tr>\n",
       "  </thead>\n",
       "  <tbody>\n",
       "    <tr>\n",
       "      <th>0</th>\n",
       "      <td>3944</td>\n",
       "      <td>3888</td>\n",
       "    </tr>\n",
       "    <tr>\n",
       "      <th>1</th>\n",
       "      <td>16</td>\n",
       "      <td>3786</td>\n",
       "    </tr>\n",
       "    <tr>\n",
       "      <th>2</th>\n",
       "      <td>3943</td>\n",
       "      <td>3424</td>\n",
       "    </tr>\n",
       "    <tr>\n",
       "      <th>3</th>\n",
       "      <td>3938</td>\n",
       "      <td>2794</td>\n",
       "    </tr>\n",
       "    <tr>\n",
       "      <th>4</th>\n",
       "      <td>1171</td>\n",
       "      <td>2535</td>\n",
       "    </tr>\n",
       "    <tr>\n",
       "      <th>5</th>\n",
       "      <td>3937</td>\n",
       "      <td>2275</td>\n",
       "    </tr>\n",
       "    <tr>\n",
       "      <th>6</th>\n",
       "      <td>1833</td>\n",
       "      <td>1774</td>\n",
       "    </tr>\n",
       "    <tr>\n",
       "      <th>7</th>\n",
       "      <td>2450</td>\n",
       "      <td>1651</td>\n",
       "    </tr>\n",
       "    <tr>\n",
       "      <th>8</th>\n",
       "      <td>1047</td>\n",
       "      <td>1480</td>\n",
       "    </tr>\n",
       "    <tr>\n",
       "      <th>9</th>\n",
       "      <td>7279</td>\n",
       "      <td>1302</td>\n",
       "    </tr>\n",
       "    <tr>\n",
       "      <th>10</th>\n",
       "      <td>5893</td>\n",
       "      <td>1295</td>\n",
       "    </tr>\n",
       "    <tr>\n",
       "      <th>11</th>\n",
       "      <td>8720</td>\n",
       "      <td>1281</td>\n",
       "    </tr>\n",
       "    <tr>\n",
       "      <th>12</th>\n",
       "      <td>936</td>\n",
       "      <td>1151</td>\n",
       "    </tr>\n",
       "    <tr>\n",
       "      <th>13</th>\n",
       "      <td>1115</td>\n",
       "      <td>1090</td>\n",
       "    </tr>\n",
       "    <tr>\n",
       "      <th>14</th>\n",
       "      <td>1320</td>\n",
       "      <td>1049</td>\n",
       "    </tr>\n",
       "  </tbody>\n",
       "</table>\n",
       "</div>"
      ]
     },
     "metadata": {
      "application/vnd.databricks.v1+output": {
       "addedWidgets": {},
       "arguments": {},
       "data": "<div>\n<style scoped>\n    .dataframe tbody tr th:only-of-type {\n        vertical-align: middle;\n    }\n\n    .dataframe tbody tr th {\n        vertical-align: top;\n    }\n\n    .dataframe thead th {\n        text-align: right;\n    }\n</style>\n<table border=\"1\" class=\"dataframe\">\n  <thead>\n    <tr style=\"text-align: right;\">\n      <th></th>\n      <th>Unique_values_BLOCK</th>\n      <th>Counts</th>\n    </tr>\n  </thead>\n  <tbody>\n    <tr>\n      <th>0</th>\n      <td>3944</td>\n      <td>3888</td>\n    </tr>\n    <tr>\n      <th>1</th>\n      <td>16</td>\n      <td>3786</td>\n    </tr>\n    <tr>\n      <th>2</th>\n      <td>3943</td>\n      <td>3424</td>\n    </tr>\n    <tr>\n      <th>3</th>\n      <td>3938</td>\n      <td>2794</td>\n    </tr>\n    <tr>\n      <th>4</th>\n      <td>1171</td>\n      <td>2535</td>\n    </tr>\n    <tr>\n      <th>5</th>\n      <td>3937</td>\n      <td>2275</td>\n    </tr>\n    <tr>\n      <th>6</th>\n      <td>1833</td>\n      <td>1774</td>\n    </tr>\n    <tr>\n      <th>7</th>\n      <td>2450</td>\n      <td>1651</td>\n    </tr>\n    <tr>\n      <th>8</th>\n      <td>1047</td>\n      <td>1480</td>\n    </tr>\n    <tr>\n      <th>9</th>\n      <td>7279</td>\n      <td>1302</td>\n    </tr>\n    <tr>\n      <th>10</th>\n      <td>5893</td>\n      <td>1295</td>\n    </tr>\n    <tr>\n      <th>11</th>\n      <td>8720</td>\n      <td>1281</td>\n    </tr>\n    <tr>\n      <th>12</th>\n      <td>936</td>\n      <td>1151</td>\n    </tr>\n    <tr>\n      <th>13</th>\n      <td>1115</td>\n      <td>1090</td>\n    </tr>\n    <tr>\n      <th>14</th>\n      <td>1320</td>\n      <td>1049</td>\n    </tr>\n  </tbody>\n</table>\n</div>",
       "datasetInfos": [],
       "metadata": {},
       "removedWidgets": [],
       "textData": null,
       "type": "htmlSandbox"
      }
     },
     "output_type": "display_data"
    }
   ],
   "source": [
    "# Recuento\n",
    "BLOCK = df_cat['BLOCK'].value_counts().rename_axis('Unique_values_BLOCK').reset_index(name = 'Counts')\n",
    "BLOCK[:15]"
   ]
  },
  {
   "cell_type": "markdown",
   "metadata": {
    "application/vnd.databricks.v1+cell": {
     "cellMetadata": {
      "byteLimit": 2048000,
      "rowLimit": 10000
     },
     "inputWidgets": {},
     "nuid": "47794ec9-cb6a-4a22-95db-b0bcbfba9225",
     "showTitle": false,
     "title": ""
    }
   },
   "source": [
    "**Variable 4** \\\n",
    "Nombre de variable: LOT\\\n",
    "Descripción: Número de hasta 4 dígitos que representan códigos de lote en diferentes Borough & Block"
   ]
  },
  {
   "cell_type": "code",
   "execution_count": 0,
   "metadata": {
    "application/vnd.databricks.v1+cell": {
     "cellMetadata": {
      "byteLimit": 2048000,
      "rowLimit": 10000
     },
     "inputWidgets": {},
     "nuid": "4d0ad5f3-ee67-47d3-8fb0-89440b061789",
     "showTitle": false,
     "title": ""
    }
   },
   "outputs": [
    {
     "output_type": "display_data",
     "data": {
      "text/html": [
       "<div>\n",
       "<style scoped>\n",
       "    .dataframe tbody tr th:only-of-type {\n",
       "        vertical-align: middle;\n",
       "    }\n",
       "\n",
       "    .dataframe tbody tr th {\n",
       "        vertical-align: top;\n",
       "    }\n",
       "\n",
       "    .dataframe thead th {\n",
       "        text-align: right;\n",
       "    }\n",
       "</style>\n",
       "<table border=\"1\" class=\"dataframe\">\n",
       "  <thead>\n",
       "    <tr style=\"text-align: right;\">\n",
       "      <th></th>\n",
       "      <th>Unique_values_LOT</th>\n",
       "      <th>Counts</th>\n",
       "    </tr>\n",
       "  </thead>\n",
       "  <tbody>\n",
       "    <tr>\n",
       "      <th>0</th>\n",
       "      <td>1</td>\n",
       "      <td>24367</td>\n",
       "    </tr>\n",
       "    <tr>\n",
       "      <th>1</th>\n",
       "      <td>20</td>\n",
       "      <td>12294</td>\n",
       "    </tr>\n",
       "    <tr>\n",
       "      <th>2</th>\n",
       "      <td>15</td>\n",
       "      <td>12171</td>\n",
       "    </tr>\n",
       "    <tr>\n",
       "      <th>3</th>\n",
       "      <td>12</td>\n",
       "      <td>12143</td>\n",
       "    </tr>\n",
       "    <tr>\n",
       "      <th>4</th>\n",
       "      <td>14</td>\n",
       "      <td>12074</td>\n",
       "    </tr>\n",
       "    <tr>\n",
       "      <th>5</th>\n",
       "      <td>16</td>\n",
       "      <td>12042</td>\n",
       "    </tr>\n",
       "    <tr>\n",
       "      <th>6</th>\n",
       "      <td>17</td>\n",
       "      <td>11982</td>\n",
       "    </tr>\n",
       "    <tr>\n",
       "      <th>7</th>\n",
       "      <td>18</td>\n",
       "      <td>11979</td>\n",
       "    </tr>\n",
       "    <tr>\n",
       "      <th>8</th>\n",
       "      <td>25</td>\n",
       "      <td>11949</td>\n",
       "    </tr>\n",
       "    <tr>\n",
       "      <th>9</th>\n",
       "      <td>21</td>\n",
       "      <td>11840</td>\n",
       "    </tr>\n",
       "    <tr>\n",
       "      <th>10</th>\n",
       "      <td>23</td>\n",
       "      <td>11705</td>\n",
       "    </tr>\n",
       "    <tr>\n",
       "      <th>11</th>\n",
       "      <td>22</td>\n",
       "      <td>11665</td>\n",
       "    </tr>\n",
       "    <tr>\n",
       "      <th>12</th>\n",
       "      <td>6</td>\n",
       "      <td>11646</td>\n",
       "    </tr>\n",
       "    <tr>\n",
       "      <th>13</th>\n",
       "      <td>19</td>\n",
       "      <td>11640</td>\n",
       "    </tr>\n",
       "    <tr>\n",
       "      <th>14</th>\n",
       "      <td>30</td>\n",
       "      <td>11596</td>\n",
       "    </tr>\n",
       "  </tbody>\n",
       "</table>\n",
       "</div>"
      ]
     },
     "metadata": {
      "application/vnd.databricks.v1+output": {
       "addedWidgets": {},
       "arguments": {},
       "data": "<div>\n<style scoped>\n    .dataframe tbody tr th:only-of-type {\n        vertical-align: middle;\n    }\n\n    .dataframe tbody tr th {\n        vertical-align: top;\n    }\n\n    .dataframe thead th {\n        text-align: right;\n    }\n</style>\n<table border=\"1\" class=\"dataframe\">\n  <thead>\n    <tr style=\"text-align: right;\">\n      <th></th>\n      <th>Unique_values_LOT</th>\n      <th>Counts</th>\n    </tr>\n  </thead>\n  <tbody>\n    <tr>\n      <th>0</th>\n      <td>1</td>\n      <td>24367</td>\n    </tr>\n    <tr>\n      <th>1</th>\n      <td>20</td>\n      <td>12294</td>\n    </tr>\n    <tr>\n      <th>2</th>\n      <td>15</td>\n      <td>12171</td>\n    </tr>\n    <tr>\n      <th>3</th>\n      <td>12</td>\n      <td>12143</td>\n    </tr>\n    <tr>\n      <th>4</th>\n      <td>14</td>\n      <td>12074</td>\n    </tr>\n    <tr>\n      <th>5</th>\n      <td>16</td>\n      <td>12042</td>\n    </tr>\n    <tr>\n      <th>6</th>\n      <td>17</td>\n      <td>11982</td>\n    </tr>\n    <tr>\n      <th>7</th>\n      <td>18</td>\n      <td>11979</td>\n    </tr>\n    <tr>\n      <th>8</th>\n      <td>25</td>\n      <td>11949</td>\n    </tr>\n    <tr>\n      <th>9</th>\n      <td>21</td>\n      <td>11840</td>\n    </tr>\n    <tr>\n      <th>10</th>\n      <td>23</td>\n      <td>11705</td>\n    </tr>\n    <tr>\n      <th>11</th>\n      <td>22</td>\n      <td>11665</td>\n    </tr>\n    <tr>\n      <th>12</th>\n      <td>6</td>\n      <td>11646</td>\n    </tr>\n    <tr>\n      <th>13</th>\n      <td>19</td>\n      <td>11640</td>\n    </tr>\n    <tr>\n      <th>14</th>\n      <td>30</td>\n      <td>11596</td>\n    </tr>\n  </tbody>\n</table>\n</div>",
       "datasetInfos": [],
       "metadata": {},
       "removedWidgets": [],
       "textData": null,
       "type": "htmlSandbox"
      }
     },
     "output_type": "display_data"
    }
   ],
   "source": [
    "# Recuento\n",
    "LOT = df_cat['LOT'].value_counts().rename_axis('Unique_values_LOT').reset_index(name = 'Counts')[:15]\n",
    "LOT[:15]"
   ]
  },
  {
   "cell_type": "markdown",
   "metadata": {
    "application/vnd.databricks.v1+cell": {
     "cellMetadata": {
      "byteLimit": 2048000,
      "rowLimit": 10000
     },
     "inputWidgets": {},
     "nuid": "14489525-ddff-4b92-930a-d50727e03572",
     "showTitle": false,
     "title": ""
    }
   },
   "source": [
    "**Variable 5** \\\n",
    "Nombre de variable: SERVIDUMBRE \\\n",
    "Descripción: Tipos de easement"
   ]
  },
  {
   "cell_type": "code",
   "execution_count": 0,
   "metadata": {
    "application/vnd.databricks.v1+cell": {
     "cellMetadata": {
      "byteLimit": 2048000,
      "rowLimit": 10000
     },
     "inputWidgets": {},
     "nuid": "b1a76166-a0b6-491c-b3c1-6a8c882d78c7",
     "showTitle": false,
     "title": ""
    }
   },
   "outputs": [
    {
     "output_type": "stream",
     "name": "stdout",
     "output_type": "stream",
     "text": [
      "Out[23]: Text(0.5, 1.0, 'Número de Propiedades con Varios Tipos de Easement')"
     ]
    },
    {
     "output_type": "display_data",
     "data": {
      "image/png": "[encoded data removed]"
     },
     "metadata": {
      "application/vnd.databricks.v1+output": {
       "addedWidgets": {},
       "arguments": {},
       "data": "data:image/png;base64,iVBORw0KGgoAAAANSUhEUgAAAtoAAAGJCAYAAAC0HJT3AAAAOXRFWHRTb2Z0d2FyZQBNYXRwbG90bGliIHZlcnNpb24zLjQuMywgaHR0cHM6Ly9tYXRwbG90bGliLm9yZy/MnkTPAAAACXBIWXMAAAsTAAALEwEAmpwYAAAvi0lEQVR4nO3de1iU5aL+8RsGQcWQMEG0k8uSSNJQDDUUhUpRAtFMo1KxVlqyMKudZC4tD7Up2+6lecjtKdNqZVsgwYpVmdkJy1xhWrlcSy2TZCkekTgM/P7wx2wnyGaUh2Hw+7kurst535l37udlBm8enpnxqK6urhYAAACAeuXp6gAAAABAU0TRBgAAAAygaAMAAAAGULQBAAAAAyjaAAAAgAEUbQAAAMAAijbgZk6dOqXbbrtN3377raujOOTAgQMKCQlRZWWlq6OcU3h4uH788cfzum1ISIj2799/XreNiYnRp59+el63bUruv/9+ZWZmNtj9DRkyRPn5+Q12f7/mLs8LABfGy9UBAJwpW6WlpXr//ffVsmVLSdK6dev01ltv6ZVXXrG77gsvvKCUlBSFhoa6ImqDWrBggZYsWSJvb29ZLBZdc801mjJlisLDw+v9vrZv317vx2yqli5dqs2bN2vt2rV224uLi9WvXz+tX79enTt3duqYy5Ytq8+Ido+R0tJS22NIkp5++mnl5ubW6/01pLOfFzUsFou+/PJLF6aqPyEhIcrLy9NVV13l6ijABWNGG2gkqqqqtHr16nNe55dfftG1116ru+66q4FSyeUzbnFxcdq+fbs+++wzde/eXX/6059U1+dsWa1WF6S7OCUkJGj79u21/gKwceNGde7c2amSXV1draqqqvqOqO3bt9u+2rdvryVLltguJyQk1Pv9NbSa50XNV1Mp2UBTQ9EGGon77rtPK1as0IkTJ2rtq/kzs5eXl5KTkyVJ9957r9atWydJWr9+vUaNGqVnnnlGERERio2N1VdffaX169crOjpavXv3tvuzfHl5uTIyMtS/f3/16dNH06dP1y+//CJJys/PV79+/bR06VLdfPPNeuKJJ1ReXq45c+YoKipKUVFRmjNnjsrLy+sch9VqVUZGhiIjIxUbG6vNmzfb7T958qSmTp2qqKgo9e3bV/PmzXOoJDdr1kxJSUn697//raNHjyo9PV0zZszQH//4R914443Kz8/XP//5T917772KiIjQkCFD9P7779tun56erunTpyslJUXh4eG655579NNPP9n2n73841znRzoz+1pzLt588027nB9++KGGDh2q7t27Kzo6WgsWLLDbn5WVpQEDBigyMlKLFy+221dVVaWlS5fqlltuUWRkpCZNmqRjx45JksrKyvTYY48pMjJSERERGj58uA4fPlznuSosLFRqaqp69eqlyMhIzZw503b8RYsWacCAAerdu7cef/xxnTx5UtL/PcYyMzPVv3//OvPVaNeunXr16qXs7OxaY0tMTNTx48c1fvx49erVSz179tT48eP1888/26537733at68eRo1apS6deumH3/80e7xfK6czpyHczl7yc6CBQuUlpamhx9+WOHh4UpKStJ3331nu+65HlebN2/W4MGDFR4err59+2r58uV13p+p50VdZs+erejoaHXv3l3Dhg2zK+EFBQUaNmyYunfvrj59+ujZZ5+17fv73/+uUaNGKSIiQgkJCXZLa87+noWHh2vChAk6evSoHn30UXXv3l3Dhw/XgQMH7M5ZSkqKbrrpJg0cOFAbN2607UtPT9fTTz+tBx54QOHh4RoxYoR++OEHSdLdd98tSUpMTFR4eLjd7QB3RNEGGomwsDDddNNNv/kf9e8pKChQSEiI8vPzFR8fr0ceeUQ7duzQ3/72Nz3//POaOXOmSkpKJElz587V3r17lZWVpby8PBUVFWnhwoW2Yx0+fFjHjx/Xpk2bNGvWLC1evFhff/21srOz9dZbb2nHjh1atGhRnTneeOMNbdq0SVlZWfrf//1fvfPOO3b709PT5eXlpby8PGVlZemTTz6xFaxzKS8v1/r16xUcHKyAgABJUk5OjiZMmKCvvvpKXbt21YQJE3TzzTfr008/1bRp0/TYY4/pX//6l+0YGzZs0EMPPaT8/Hxdd911euyxx+q8r3Odn48++kgrVqzQihUrlJeXp88++8zuti1atFBGRoa+/PJLvfTSS3rttdf03nvvSZL27Nmjp59+Ws8995y2bNmiY8eO2RXQV155Re+9957WrFmjLVu2qHXr1raSnJmZqVOnTunDDz9Ufn6+nn76aTVv3rxWdqvVqvHjx6t9+/b64IMP9NFHH2nw4MGSzvxClpmZqdWrV+u9997T6dOnbcevsW3bNr3zzjt6+eWXtXDhQv3zn/+s8xwNHTpUb731lu3yv/71L3333Xe6/fbbVVVVpWHDhmnTpk3atGmTfHx8at1Pdna2Zs2apa+++krt27e323eunI6eB2e9//77GjRokLZu3ar4+Hg99NBDqqioUEVFxTkfV08++aRmzpyp7du3KycnR7169arz+KaeF3W54YYblJWVZRvLpEmTVFZWJkmaM2eORo8era+++kp/+9vfFBcXJ0k6dOiQxo8frwcffFBbt27VlClTlJaWpuLiYttxN27cqOeee04fffSRfvjhB40aNUrDhw/X1q1b1alTJ9tz5PTp0xo3bpzi4+P16aefat68eXr66ae1Z88eu2Olpqbqiy++0JVXXql58+ZJkm05UnZ2trZv32577ALuiqINNCJpaWlas2aN3X9ujrr88ss1fPhwWSwWDR48WIWFhZo4caK8vb0VFRUlb29v/fDDD6qurtYbb7yhqVOnyt/fX61atdL48ePt1qx6enoqLS1N3t7eat68uTZs2KCJEyeqTZs2CggI0MSJE+1K1tnefvttjRkzRsHBwfL399f48eNt+w4fPqzNmzdr6tSpatmypdq0aaOxY8eec73sO++8o4iICEVHR2vnzp168cUXbftiY2PVo0cPeXp66rvvvtPp06f1wAMPyNvbW71799aAAQPsjt2/f3/17NlT3t7emjx5sv7+97+rsLDQ7v5+7/y8/fbbGjZsmDp37qyWLVsqNTXV7vaRkZEKCQmRp6enrrvuOg0ZMkRbt261jeXsDJMmTZKn5//9GH799dc1efJktWvXTt7e3kpNTdW7776ryspKeXl56dixY9q/f78sFovCwsLUqlWrWueroKBARUVFevzxx9WyZUv5+PgoIiJC0plfNMaOHasrrrhCvr6+euSRR7Rx40a75UGpqalq3ry5rrvuOl133XV2M7tnu/XWW3X48GF99dVXks4Uo759+yogIECXXnqpBg4cqBYtWqhVq1Z68MEH9cUXX9jdPikpSddee628vLzUrFkzu33nyunoeXBWly5dNGjQIDVr1kwpKSkqLy/X119/ra+//vqcjysvLy/t2bNHp06dUuvWrdWlS5c6j2/qeVHzde+999r2JSYm6tJLL5WXl5fGjRun8vJy7d2715b3hx9+UHFxsXx9fXXjjTdKOvP969evn6Kjo+Xp6ambb75ZYWFhdjPvw4YN05VXXqlLLrlE/fr10xVXXKE+ffrIy8tLgwYN0q5duySd+atOhw4dNHz4cHl5een666/XwIED7X65uOWWW9S1a1d5eXkpISHBbV7cDTiLF0MCjUjnzp3Vv39/LV26VJ06dXLqtm3atLH9u2aG77LLLrNt8/HxUUlJiYqLi1VaWqphw4bZ9v16neyll14qHx8f2+WioiK7Wcf27durqKiozhxFRUUKDg62u26NgwcPqrKyUlFRUbZtVVVVdtf/tUGDBmnu3Ll17jv7dkVFRWrXrp1dcW3fvr0OHTpku9yuXTvbv319fdW6detaeX/v/BQVFSksLMy2r0OHDnaZvv76a82dO1f/+Mc/VFFRofLycg0aNMguY42WLVvK39/fdvngwYOaOHGi3Rg8PT115MgRJSYm6ueff9YjjzyiEydOKCEhQZMnT65VUgsLC9W+fXt5edX+8V5UVGSXt0OHDqqsrNSRI0ds285+zLRo0UKnT5+udZyafYMGDVJWVpbCw8O1YcMGTZkyRdKZFx8+++yz2rJli44fPy5JKikpkdVqtb0g8Vzf83PldPQ8OOvs74unp6eCgoJsj/FzPa7mz5+vxYsX64UXXlBISIgeffTROl+s25DPi+XLl+vNN99UUVGRPDw8dOrUKR09elTSmRnt+fPnKy4uTpdffrlSU1M1YMAAHTx4UO+88442bdpkO05lZaUiIyNtl3/98+Tsy82bN7c9Vn766ScVFBTYfsGTzvyl5ey18b91W6CpoWgDjUxaWpqSkpI0btw427aadyL55ZdfbLN3//73v8/r+JdeeqmaN2+u3NxcBQUF1XkdDw8Pu8uBgYE6ePCgrr32WklnylxgYGCdt23btq3dLPHZ/66Zqf3888/rLIIXIjAwUD///LOqqqpspaiwsFBXX3217TpnL9MoKSnR8ePHa43j985PYGCg3ZgOHjxot//RRx/VPffco2XLlsnHx0dz5syxlZzAwEC7pRilpaW2NdjSmfPzzDPPqEePHnWOMTU1VampqTpw4IAeeOABdezYUSNGjLC7TnBwsAoLC22zv7/Ofva69IMHD8rLy0tt2rSxOzeOSkpK0sSJE3XbbbeppKREAwYMkCStWLFCe/fu1RtvvKG2bdvq22+/1dChQ+1exPrrx5ijOb28vBw6D846e/xVVVU6dOiQ7bFxrsdV165dtXjxYlVUVGjt2rV6+OGHa62/lhruefHll19q2bJlWrVqla699lp5enqqZ8+etnN/9dVX67/+679UVVWlvLw8paWlKT8/X8HBwUpMTNTs2bMv6P6lM4/Bnj17auXKlRd8LMDdsXQEaGSuuuoqDR482O5t/QICAhQUFKTs7GxZrVa9+eab5/2ez56enhoxYoSeeeYZ20zmoUOHtGXLlt+8zZAhQ7R48WIVFxeruLhYCxcu1O23317ndePi4vTKK6/o559/1vHjx7V06VLbvsDAQN188836z//8T506dUpVVVX64YcfbEsrLkTXrl3VvHlzLVu2TBUVFcrPz9cHH3xgt8Zz8+bN+vLLL1VeXq6//OUv6tatW61Zw987P4MGDVJmZqb27Nmj0tJSu6Us0pkC37p1a/n4+KigoEA5OTm2fQMHDtSHH35oyzB//ny7vyTcdddd+u///m9bySwuLrat7/7888/1/fffy2q1qlWrVvLy8rKbZT37PLRt21YvvPCCTp8+rbKyMm3btk2SFB8fr5dfflk//vijSkpKNG/ePMXFxZ13uYuIiNAll1yi6dOna/Dgwba3myspKZGPj4/8/Px07NixWufo95wrp6PnwVk7d+5UXl6eKisr9fLLL8vb21vdunU75+OqvLxcb731lk6ePKlmzZrJ19f3N7M01POipKREFotFAQEBqqys1IsvvqhTp07Z9mdnZ6u4uFienp7y8/OTdOYxn5CQoE2bNmnLli2yWq0qKytTfn7+ef0C1r9/f+3bt09ZWVm2de4FBQW/ud7/1y677LLz/vkGNDYUbaARmjhxYq0/pc6aNUvLly9XZGSk9uzZc0HvJf0f//Efuuqqq3TnnXeqe/fuGjt2rG0NZ10eeughhYWFKSEhQQkJCerSpYseeuihOq975513KioqSomJiUpKStJtt91mt/+5555TRUWFBg8erJ49eyotLe28Z+fP5u3trSVLluijjz5Sr169bC86PHsJTnx8vBYuXKjIyEjt3LlTzz//fJ3HOtf5iY6O1pgxYzRmzBjdeuuttV78NmPGDM2fP1/h4eFauHCh7cVmknTttddq+vTpeuyxx9S3b1/5+fnZLVkYPXq0YmJiNG7cOIWHh+vOO+9UQUGBpDPreNPS0tSjRw8NHjxYN910kxITE2tlt1gsWrJkifbv368BAwaoX79+evvttyVJw4cPV0JCgu655x7FxsbK29tbf/7zn8/zjJ+ZlR46dKh++uknDR061LZ9zJgxKisrU69evTRy5Ej17dvXqeOeK6ej58FZsbGx2rhxo3r27Kns7GwtWLBAzZo1+93HVXZ2tmJiYtS9e3e9/vrrv/mYqu/nxdtvv63w8HC7ryNHjtjetWTgwIGKiYmRj4+P3S+TW7Zs0ZAhQxQeHq45c+Zo3rx5at68uYKDg7Vo0SK99NJL6t27t6Kjo7V8+fLzeuvFVq1aafny5dq4caP69u2rqKgozZ079zffqejXUlNTlZ6eroiICN51BG7Po7quN6QFgCYmPT1dQUFBmjx5squjoJFZsGCB9u/f/5trngHgfDGjDQAAABhA0QYAAAAMYOkIAAAAYAAz2gAAAIABTfJ9tKuqqlRSUqJmzZqd871aAQAAgAtRXV2tioqKOt/is0kW7ZKSEu3evdvVMQAAAHCR6Ny5sy655BK7bU2yaNd8FG/nzp1tH6AAAAAA1Lfy8nLt3r3b1j/P1iSLds1yEW9vb/n4+Lg4DQAAAJq6upYr82JIAAAAwACKNgAAAGAARRsAAAAwgKINAAAAGEDRBgAAAAygaAMAAAAGULQBAAAAAyjaAAAAgAEUbQAAAMAAijYAAABgAEUbAAAAMICiDQAAABhw0RXt6kqrqyM4xd3yAgAA4AwvVwdoaB5eFv178RpXx3BY2wfvcXUEAAAAnIeLbkYbAAAAaAgUbQAAAMAAijYAAABgAEUbAAAAMICiDQAAABhA0QYAAAAMoGgDAAAABlC0AQAAAAMo2gAAAIABFG0AAADAAIo2AAAAYABFGwAAADCAog0AAAAYQNEGAAAADKBoAwAAAAZQtAEAAAADKNoAAACAARRtAAAAwACKNgAAAGAARRsAAAAwgKINAAAAGEDRBgAAAAygaAMAAAAGULQBAAAAAyjaAAAAgAEUbQAAAMAAijYAAABgAEUbAAAAMICiDQAAABhA0QYAAAAMoGgDAAAABlC0AQAAAAMo2gAAAIABFG0AAADAAIo2AAAAYABFGwAAADCAog0AAAAYQNEGAAAADKBoAwAAAAZQtAEAAAADKNoAAACAARRtAAAAwACKNgAAAGAARRsAAAAwoFEX7YKCAo0aNUqjRo3SvHnzXB0HAAAAcJiXqwOcS2hoqF5//XVJ0pgxY3Tq1Cm1atXKxakAAACA39eoZ7SbNWsmSbJarQoMDFTz5s1dnAgAAABwTIMV7YyMDMXExCgkJES7d++2bd+7d69GjhypgQMHauTIkdq3b5/d7TZs2KDBgwfLz89PXl6NegIeAAAAsGmwoh0bG6u1a9eqQ4cOdttnzJih5ORkvfvuu0pOTtb06dPt9t9+++16++23VVRUpO+//76h4gIAAAAXpMGmiCMiImptO3LkiHbt2qWVK1dKkuLj4zVr1iwVFxcrICBA5eXl8vb2lqenp3x9feXj4+PUfX7zzTe1tvXo0eP8BuBC27Ztc3UEAAAAOMmlazEKCwsVFBQki8UiSbJYLAoMDFRhYaECAgL0/vvv69VXX1VVVZUiIiJ09dVXO3X8sLAwp8t5Y+SOvxwAAABcDMrKyuqc3JUa+buOxMXFKS4uztUxAAAAAKe59F1HgoODdejQIVmtVkln3l2kqKhIwcHBrowFAAAAXDCXFu02bdooNDRUOTk5kqScnByFhoYqICDAlbEAAACAC9ZgS0dmz56tvLw8HT58WCkpKfL391dubq6eeuoppaena9GiRfLz81NGRkZDRQIAAACM8aiurq52dYj6VrMo/bdeDPnvxWtckOr8tH3wHldHAAAAwG84V+9s1J8MCQAAALgrijYAAABgAEUbAAAAMICiDQAAABhA0QYAAAAMoGgDAAAABlC0AQAAAAMo2gAAAIABFG0AAADAAIo2AAAAYABFGwAAADCAog0AAAAYQNEGAAAADKBoAwAAAAZQtAEAAAADKNoAAACAARRtAAAAwACKNgAAAGAARRsAAAAwgKINAAAAGEDRBgAAAAygaAMAAAAGULQBAAAAAyjaAAAAgAEUbQAAAMAAijYAAABgAEUbAAAAMICiDQAAABhA0QYAAAAMoGgDAAAABlC0AQAAAAMo2gAAAIABFG0AAADAAIo2AAAAYABFGwAAADCAog0AAAAYQNFuYqory10dwSnulhcAAMBRXq4OgPrl4eWtH+bf4eoYDrsy7U1XRwAAADCCGW0AAADAAIo2AAAAYABFGwAAADCAog0AAAAYQNEGAAAADKBoAwAAAAZQtAEAAAADKNoAAACAARRtAAAAwACKNgAAAGAARRsAAAAwgKINAAAAGEDRBgAAAAygaAMAAAAGULQBAAAAAyjaAAAAgAEUbQAAAMAAijYAAABgAEUbAAAAMICiDQAAABhA0QYAAAAMoGgDAAAABlC0AQAAAAMo2gAAAIABFG0AAADAAIo2AAAAYABFGwAAADCAog0AAAAYQNEGAAAADKBoAwAAAAZQtAEAAAADKNoAAACAAY26aH/55Ze68847NWrUKK1YscLVcQAAAACHNeqifcUVV2jNmjV6/fXXtWnTJpWWlro6EgAAAOAQL1cHOJegoCDbvy0Wizw9G/XvBQAAAIBNgzXXjIwMxcTEKCQkRLt377Zt37t3r0aOHKmBAwdq5MiR2rdvX63bfvLJJ7ryyivl4+PTUHEBAACAC9JgRTs2NlZr165Vhw4d7LbPmDFDycnJevfdd5WcnKzp06fb7f/555/10ksvacqUKQ0VFY2UtbLc1RGc5o6ZAQBA/XB46cjy5ct133331dq+cuVKpaSk/O7tIyIiam07cuSIdu3apZUrV0qS4uPjNWvWLBUXFysgIEDl5eVKT0/XU089JV9fX0ej2nzzzTe1tvXo0cPp47jatm3bHL5uUx5fjx499O7ywYbT1K+B92106vsHAACaDoeL9sKFC+ss2osXL3aoaNelsLBQQUFBslgsks6sww4MDFRhYaECAgK0YcMG7dmzRzNmzJAkzZ07127d9u8JCwtrEstN3LE8O4PxAQAAd1VWVlbn5K7kQNH+7LPPJElVVVX6/PPPVV1dbdt34MCB85ppdtTw4cM1fPhwY8cHAAAATPndov3kk09KOtPWp06datvu4eGhtm3batq0aed958HBwTp06JCsVqssFousVquKiooUHBx83scEAAAAGoPfLdoffPCBJOnxxx/Xc889V6933qZNG4WGhionJ0eJiYnKyclRaGioAgIC6vV+AAAAgIbm8Brts0t2VVWV3T5H3t969uzZysvL0+HDh5WSkiJ/f3/l5ubqqaeeUnp6uhYtWiQ/Pz9lZGQ4ER8AAABonBwu2jt37tTMmTP1/fffq6ysTJJUXV0tDw8Pffvtt797+2nTptW5zKRTp05at26dE5EBAACAxs/hop2enq4BAwbomWeeUfPmzU1mAgAAANyew0X7p59+0uTJk+Xh4WEyDwAAANAkOPzJkLfeeqs+/vhjk1kAAACAJsPhGe2ysjKlpqaqR48euuyyy+z21fe7kQAAAADuzuGifc011+iaa64xmQUAAABoMhwu2qmpqSZzAAAAAE2Kw0W75qPY69K7d+96CQMAAAA0FQ4X7ZqPYq9x9OhRVVRUKCgoSO+//369BwMAAADcmcNFu+aj2GtYrVYtXrxYvr6+9R4KAAAAcHcOv73fr1ksFk2YMEHLli2rzzwAAABAk3DeRVuSPvnkEz7ABgAAAKiDw0tHoqOj7Up1aWmpysvLNWPGDCPBAAAAAHfmcNF+/vnn7S63aNFCHTt2VKtWreo9FAAAAODuHC7aN910kySpqqpKhw8f1mWXXSZPzwtaeQIAAAA0WQ435VOnTunxxx9X165d1a9fP3Xt2lVTpkzRyZMnTeYDAAAA3JLDRXv27NkqLS3Vhg0bVFBQoA0bNqi0tFSzZ882mQ8AAABwSw4vHdmyZYvee+89tWjRQpLUsWNHPfvss7r11luNhQMAAADclcMz2j4+PiouLrbbdvToUXl7e9d7KAAAAMDdOTyjfccdd2jcuHEaO3as2rdvr4MHD2rVqlUaMWKEyXwAAACAW3K4aD/44IMKCgrShg0bVFRUpMDAQN1///0UbQAAAKAODi8dmTNnjjp27KhVq1Zp48aNWrVqlTp16qQ5c+aYzAcAAAC4JYeLdk5OjsLCwuy2hYWFKScnp95DAQAAAO7O4aLt4eGhqqoqu21Wq7XWNgAAAABOFO2IiAj95S9/sRXrqqoqLViwQBEREcbCAQAAAO7K4RdDPvnkkxo/fryioqLUvn17FRYWqm3btlqyZInJfAAAAIBbcrhot2vXTpmZmSooKFBhYaGCg4PVtWtXeXo6PCkOAAAAXDQcLtqS5OnpqRtvvFE33nijoTgAAABA08B0NAAAAGAARRsAAAAwgKINAAAAGEDRBgAAAAygaAMAAAAGULSBRqLSWu7qCE5zx8wAADQUp97eD4A5XhZvvfTKQFfHcMr4e991dQQAABotZrQBAAAAAyjaAAAAgAEUbQAAAMAAijYAAABgAEUbAAAAMICiDQAAABhA0QYAAAAMoGgDAAAABlC0AQAAAAMo2gAAAIABFG0AAADAAIo2AAAAYABFGwAAADCAog0AAAAYQNEGAAAADKBoAwAAAAZQtAEAAAADKNoAAACAARRtAA2iwlru6ghOc8fMAIDGw8vVAQBcHJpZvJWSOcjVMZyyMukdV0cAALgxZrQBAAAAAyjaAAAAgAEUbQAAAMAAijYAAABgAEUbAOpBubXS1RGc4m55AcAd8a4jAFAPvC1eGpL5vKtjOCw36T9cHQEAmjxmtAEAAAADKNoAAACAARRtAAAAwACKNgAAAGAARRsAAAAwgKINAAAAGEDRBgAAAAygaAMAAAAGULQBAAAAAyjaAAAAgAGNumgfO3ZMw4YNU3h4uKujAAAAAE5p1EXb19dXK1asULdu3VwdBQAAAHBKoy7azZo1k7+/v6tjAAAAAE5rsKKdkZGhmJgYhYSEaPfu3bbte/fu1ciRIzVw4ECNHDlS+/bta6hIAAAAgDENVrRjY2O1du1adejQwW77jBkzlJycrHfffVfJycmaPn16Q0UCAAAAjPFqqDuKiIiote3IkSPatWuXVq5cKUmKj4/XrFmzVFxcrICAgAu+z2+++abWth49elzwcRvatm3bHL5uUx6fO45NYnw1GF/j48zPFgCA8xqsaNelsLBQQUFBslgskiSLxaLAwEAVFhbaivbYsWP17bffauzYsZo6dao6d+7s8PHDwsLk4+NjJHtDcsf/wJ3B+Nwb43NfTXlsANBQysrK6pzclVxctB2xatUqV0cAAAAAnObSdx0JDg7WoUOHZLVaJUlWq1VFRUUKDg52ZSwAAADggrm0aLdp00ahoaHKycmRJOXk5Cg0NLRe1mcDAAAArtRgS0dmz56tvLw8HT58WCkpKfL391dubq6eeuoppaena9GiRfLz81NGRkZDRQIAAACMabCiPW3aNE2bNq3W9k6dOmndunUNFQMAAABoEI36kyEBAI1D+f9/LY27cLe8AJqmRv+uIwAA1/O2WBT/5lpXx3BYzh13uzoCADCjDQAAAJhA0QYAAAAMoGgDAAAABlC0AQAAAAMo2gAAAIABFG0AAADAAIo2AAAAYABFGwAAADCAog0AAAAYQNEGAAAADKBoAwAAAAZQtAEAAAADKNoAAACAARRtAAAAwACKNgAAAGAARRsAcFErt1pdHcFp7pgZuBh5uToAAACu5G2xaOib77s6hlOy7oh1dQQADmBGGwAAADCAog0AAAAYQNEGAAAADKBoAwAAAAZQtAEAAAADKNoAAACAARRtAAAAwACKNgAAAGAARRsAAAAwgKINAAAAGEDRBgAAAAygaAMAAAAGULQBAAAAAyjaAAAAgAEUbQAAAMAAijYAAABgAEUbAIAmrMJa7eoITnMms9UNx+eOmXF+vFwdAAAAmNPM4qG0zB9dHcMp85OucPi6FouH3v7rYYNp6l/cyMtcHQENhBltAAAAwACKNgAAAGAARRsAAAAwgKINAAAAGEDRBgAAAAygaAMAAAAGULQBAAAAAyjaAAAAgAEUbQAAAMAAijYAAABgAEUbAAAAMICiDQAAABhA0QYAAAAMoGgDAAA0UlWV1a6O4BR3y2ual6sDAAAAoG6eXh7a998/uzqGw65+uJ2rIzQqzGgDAAAABlC0AQAAAAMo2gAAAIABFG0AAADAAIo2AAAAYABFGwAAADCAog0AAAAYQNEGAAAADKBoAwAAAAZQtAEAAAADKNoAAACAARRtAAAAwACKNgAAAGAARRsAAAAwgKINAAAAGEDRBgAAAAygaAMAAAAGULQBAAAAAxp90Z41a5aSk5O1ZMkSV0cBAAAAHNaoi/aOHTtksVj06quvateuXTp8+LCrIwEAAAAOadRFu6CgQL169ZIk9ezZUzt37nRxIgAAAMAxDVa0MzIyFBMTo5CQEO3evdu2fe/evRo5cqQGDhyokSNHat++fbZ9J06cUKtWrSRJvr6+OnHiREPFBQAAAC6IV0PdUWxsrEaPHq27777bbvuMGTOUnJysxMREZWdna/r06Vq9erUkyc/PT6dOnZIklZSU6Morr3TqPr/55pta23r06HGeI3Cdbdu2OXzdpjw+dxybxPhqML7Gh58tZ7jj2CTGV4PxNT7O/Gy54fowebfwMZimfpWXlmnHrtr98rc0WNGOiIiote3IkSPatWuXVq5cKUmKj4/XrFmzVFxcrICAAN1www3Kzc1VTEyMvvjiC8XFxTl1n2FhYfLxcZ9v3m9xxyeZMxife2N87qspj01ifO6O8bkvZ8d26C+fGUpS/4Im9a41vrKysjondyUXr9EuLCxUUFCQLBaLJMlisSgwMFCFhYWSpK5du6q8vFzJycm67rrrdNlll7kyLgAAAOCwBpvRPl8zZsxwdQQAAADAaS6d0Q4ODtahQ4dktVolSVarVUVFRQoODnZlLAAAAOCCubRot2nTRqGhocrJyZEk5eTkKDQ0VAEBAa6MBQAAAFywBls6Mnv2bOXl5enw4cNKSUmRv7+/cnNz9dRTTyk9PV2LFi2Sn5+fMjIyGioSAAAAYEyDFe1p06Zp2rRptbZ36tRJ69ata6gYAAAAQINo1J8MCQAAALgrijYAAABgAEUbAAAAMICiDQAAABhA0QYAAAAMoGgDAAAABjT6j2A/H9XV1ZKk8vLyOvdXejdryDgXpKyszOnbWH1aG0hihrPj8/T2NxPEEGfH593M30wQQ5wd3yUWfzNBDHF2fP6W5oaS1L/z+dni79V0f3a29nKveSdnx+drsRpKYobT/zd4VRpKYoaz47P6uM/4zudnS6WPgSCG1DW+mr5Z0z/P5lFd11Y3d/LkSe3evdvVMQAAAHCR6Ny5sy655BK7bU2yaFdVVamkpETNmjWTh4eHq+MAAACgiaqurlZFRYV8fX3l6Wn/17EmWbQBAAAAV3OvRWkAAACAm6BoAwAAAAZQtAEAAAADKNoAAACAARRtAAAAwACKNgAAAGAARRsAAAAwgKJ9gWJiYjRo0CAlJibavg4cOODqWPXm1+N75plnXB2p3lRUVGjBggUaOHCghgwZooSEBKWlpWnPnj2ujnbBYmJian066rBhw5Sfn++iRPUrJiZG8fHxqqqqstvWFD8RtqmOq0ZTHN/ZYyotLdV9992nJ554Qlare30M+rk0xe9bjZr/9xISEhQfH6/c3FxXR6oXMTExioqKsnscrl+/XiEhIVqzZo0Lk9WfkJAQlZSU2G2LjIx0aS/zctk9NyHz589X586dXR3DmKY6vieeeEK//PKL1q1bJz8/P1VXV2vz5s3au3evrrnmGlfHw+84ffq0srOzlZSU5OooQJ1OnDihBx54QDfccIOmTp3KJxW7kZr/93bt2qVRo0apd+/eCggIcHWsCxYYGKiPP/5Y0dHRkqTMzEx16dLFxamaNma0cVHat2+f3nvvPc2ZM0d+fn6SJA8PD/Xv31+33nqri9PBEampqXrxxRdVXl7u6ihALUeOHNHo0aPVp08fPfnkk5RsN3X99dfL19e3yfylOikpSevXr5ck/fjjjzp9+nSTnEhrTJjRrgdpaWny8fGRJFksFtuDuKk4e3yPPfaY+vbt6+JEF27Xrl266qqr1Lp1a1dHMebs75t05peLpiQsLExdunTRa6+9pjFjxrg6DmDn4YcfVnJystLS0lwdBRfg888/V1lZma6++mpXR6kXN910k1599VUdP35cmZmZGjp0qHbu3OnqWE0aRbseNNWlFTWa+vgkac+ePXr00Uf1yy+/qG/fvpo2bZqrI12wX3/fhg0b5sI0Zjz88MMaPXq07rjjDldHAexER0dr48aNGjVqlIKCglwdB06qmaho1aqVFixYYPvLp7vz8PBQXFyccnNzlZubq9dff/2iKNqu/IsSRRsXpeuvv1779+/XiRMn5Ofnp2uuuUbZ2dlas2aNvvnmG1fHg4P+8Ic/KDo6WitXrnR1FMDO/fffr02bNmn06NFavXo1ZdvNNOUJpqSkJI0YMUI9e/bUpZde6uo49SogIEDHjh2Tr6+vJKmyslKnTp1y6fp61mjjonT11VcrNjZW06ZN08mTJ23bT58+7cJUOB9/+tOf9Oqrr9Z6pTngauPHj1dSUpJGjx6tQ4cOuToOIEm64oorNHnyZD300EOujlLv+vTpo7/+9a+2y3/961/VrVs3tWjRwmWZmNGuB79eCzt79mzdcMMNLkwERzz77LNatGiR7rjjDnl5ecnPz0+BgYF64IEHXB0NTmjXrp0SExO1YsUKV0fBeaisrLT7+dnUTJgwQdXV1U1yZjslJUUWi8V2ecOGDU36dS9NyciRI10dwYgnn3xSc+bM0e233y5PT08FBwfrueeec2kmj+rq6mqXJgAAXJSKiooUFxenTz75RM2bN3d1HACod8xoAwAa3OrVq/Xqq69qypQplGwATRYz2gAAAIABvBgSAAAAMICiDQAAABhA0QYAAAAMoGgDAAAABlC0AaCRiYmJUdeuXRUeHm77mjlzpm1/fn6+QkJCtHTp0lq3XbdunQYNGqTw8HD16dNHf/zjH3Xq1ClJUnp6usLCwuyOm5CQIEk6cOCAQkJCNHToULvjFRcXKywsTDExMQ7lW79+vUJCQvQ///M/dsfp16+f8vPzNX36dNttwsLC1KVLF9vl+++/v17OHwA0Fry9HwA0QkuWLFGfPn3q3JeVlSV/f39lZ2fbfcDS1q1bNW/ePC1btkzXX3+9jh07pk2bNtnd9r777tPkyZN/835LS0u1e/du28dP5+TkqEOHDqqoqHA4n7+/v5YtW6a77rpLrVq1sts3c+ZMWylfsGCB9u/fr7lz5/5mHgBwZ8xoA4AbOX36tN555x1Nnz5d+/fv144dO2z7duzYoRtvvFHXX3+9pDOFNykpqVbZPZfExERlZmbaLmdlZdWa5f49f/jDHxQeHq5Vq1Y5dTsAaGoo2gDgRvLy8uTr66tBgwYpKipKWVlZtn3dunXTxx9/rPnz52vbtm0qLy93+vgJCQnauHGjrFar9uzZo9OnT6tbt25OH2fSpEl6+eWXdezYMadvCwBNBUUbABqhiRMnKiIiwvb1xhtvSDozwxwXFyeLxaL4+Hjl5ubalnVERERowYIF2rVrl8aPH6/IyEg9++yzslqttuOuWLHC7rhTpkyxu9927dqpY8eO+vTTT5WVlaXExESn8tUIDQ1Vnz59aq3VBoCLCWu0AaARWrhwYa010IWFhcrPz9cjjzwiSYqNjdWf//xnbd68WbfccoskKTo6WtHR0aqqqlJ+fr4mTZqkjh07atSoUZKkcePGnXONtiQNHTpUmZmZ2r59u9auXat9+/Y5lO/X0tLSNGLECKWkpDg6bABoUpjRBgA3kZ2draqqKj344IO6+eabdcstt6i8vNxuTXUNT09P9e7dW7169dI//vEPp+7ntttu04cffqjLL79c7du3P++8nTp10m233aYlS5ac9zEAwJ0xow0AbiIzM1Opqam22WlJKigo0KRJk3T06FFt27ZNZWVlioqKkp+fn3bs2KGtW7dq6tSpTt1Py5Yt9fLLL6t169YXnHnixIm2txAEgIsNRRsAGqEJEybIYrHYLoeFhengwYO6++67FRAQYNseGxurq666Srm5uQoJCdGLL76omTNnqry8XIGBgbrvvvvsiu7y5cu1evVq22Vvb2/l5+fXuv8bbrjBqXx9+vTRwoULa13viiuuUGJiol577TXHBg4ATYhHdXV1tatDAAAAAE0Na7QBAAAAAyjaAAAAgAEUbQAAAMAAijYAAABgAEUbAAAAMICiDQAAABhA0QYAAAAMoGgDAAAABlC0AQAAAAP+H/zBywJu9EfqAAAAAElFTkSuQmCC\n",
       "datasetInfos": [],
       "metadata": {},
       "removedWidgets": [],
       "type": "image"
      }
     },
     "output_type": "display_data"
    }
   ],
   "source": [
    "# Visualización de la variable 5\n",
    "sns.set_theme(style = 'whitegrid')\n",
    "plt.figure(figsize = (12, 6))\n",
    "fig2 = sns.countplot(x = 'EASEMENT', data = dados, order = dados['EASEMENT'].value_counts().index)\n",
    "fig2.set_yscale(\"log\")\n",
    "fig2.set_title('Número de Propiedades con Varios Tipos de Easement')"
   ]
  },
  {
   "cell_type": "markdown",
   "metadata": {
    "application/vnd.databricks.v1+cell": {
     "cellMetadata": {
      "byteLimit": 2048000,
      "rowLimit": 10000
     },
     "inputWidgets": {},
     "nuid": "84bf2d48-2c9a-4316-b664-b8128f6b698b",
     "showTitle": false,
     "title": ""
    }
   },
   "source": [
    "**Variable 6** \\\n",
    "Nombre de variable: OWNER\\\n",
    "Descripción: Propietarios"
   ]
  },
  {
   "cell_type": "code",
   "execution_count": 0,
   "metadata": {
    "application/vnd.databricks.v1+cell": {
     "cellMetadata": {
      "byteLimit": 2048000,
      "rowLimit": 10000
     },
     "inputWidgets": {},
     "nuid": "130fbf78-0042-4fd0-978f-796e54a090da",
     "showTitle": false,
     "title": ""
    }
   },
   "outputs": [],
   "source": [
    "# Recuento\n",
    "OWNER = df_cat['OWNER'].value_counts().rename_axis('Unique_values_OWNER').reset_index(name = 'Counts')"
   ]
  },
  {
   "cell_type": "code",
   "execution_count": 0,
   "metadata": {
    "application/vnd.databricks.v1+cell": {
     "cellMetadata": {
      "byteLimit": 2048000,
      "rowLimit": 10000
     },
     "inputWidgets": {},
     "nuid": "4d7382d7-b653-4fea-bfd7-c0ec7a0765d3",
     "showTitle": false,
     "title": ""
    }
   },
   "outputs": [
    {
     "output_type": "display_data",
     "data": {
      "text/html": [
       "<div>\n",
       "<style scoped>\n",
       "    .dataframe tbody tr th:only-of-type {\n",
       "        vertical-align: middle;\n",
       "    }\n",
       "\n",
       "    .dataframe tbody tr th {\n",
       "        vertical-align: top;\n",
       "    }\n",
       "\n",
       "    .dataframe thead th {\n",
       "        text-align: right;\n",
       "    }\n",
       "</style>\n",
       "<table border=\"1\" class=\"dataframe\">\n",
       "  <thead>\n",
       "    <tr style=\"text-align: right;\">\n",
       "      <th></th>\n",
       "      <th>Unique_values_OWNER</th>\n",
       "      <th>Counts</th>\n",
       "    </tr>\n",
       "  </thead>\n",
       "  <tbody>\n",
       "    <tr>\n",
       "      <th>0</th>\n",
       "      <td>PARKCHESTER PRESERVAT</td>\n",
       "      <td>6020</td>\n",
       "    </tr>\n",
       "    <tr>\n",
       "      <th>1</th>\n",
       "      <td>PARKS AND RECREATION</td>\n",
       "      <td>4255</td>\n",
       "    </tr>\n",
       "    <tr>\n",
       "      <th>2</th>\n",
       "      <td>DCAS</td>\n",
       "      <td>2169</td>\n",
       "    </tr>\n",
       "    <tr>\n",
       "      <th>3</th>\n",
       "      <td>HOUSING PRESERVATION</td>\n",
       "      <td>1904</td>\n",
       "    </tr>\n",
       "    <tr>\n",
       "      <th>4</th>\n",
       "      <td>CITY OF NEW YORK</td>\n",
       "      <td>1450</td>\n",
       "    </tr>\n",
       "  </tbody>\n",
       "</table>\n",
       "</div>"
      ]
     },
     "metadata": {
      "application/vnd.databricks.v1+output": {
       "addedWidgets": {},
       "arguments": {},
       "data": "<div>\n<style scoped>\n    .dataframe tbody tr th:only-of-type {\n        vertical-align: middle;\n    }\n\n    .dataframe tbody tr th {\n        vertical-align: top;\n    }\n\n    .dataframe thead th {\n        text-align: right;\n    }\n</style>\n<table border=\"1\" class=\"dataframe\">\n  <thead>\n    <tr style=\"text-align: right;\">\n      <th></th>\n      <th>Unique_values_OWNER</th>\n      <th>Counts</th>\n    </tr>\n  </thead>\n  <tbody>\n    <tr>\n      <th>0</th>\n      <td>PARKCHESTER PRESERVAT</td>\n      <td>6020</td>\n    </tr>\n    <tr>\n      <th>1</th>\n      <td>PARKS AND RECREATION</td>\n      <td>4255</td>\n    </tr>\n    <tr>\n      <th>2</th>\n      <td>DCAS</td>\n      <td>2169</td>\n    </tr>\n    <tr>\n      <th>3</th>\n      <td>HOUSING PRESERVATION</td>\n      <td>1904</td>\n    </tr>\n    <tr>\n      <th>4</th>\n      <td>CITY OF NEW YORK</td>\n      <td>1450</td>\n    </tr>\n  </tbody>\n</table>\n</div>",
       "datasetInfos": [],
       "metadata": {},
       "removedWidgets": [],
       "textData": null,
       "type": "htmlSandbox"
      }
     },
     "output_type": "display_data"
    }
   ],
   "source": [
    "OWNER.head()"
   ]
  },
  {
   "cell_type": "code",
   "execution_count": 0,
   "metadata": {
    "application/vnd.databricks.v1+cell": {
     "cellMetadata": {
      "byteLimit": 2048000,
      "rowLimit": 10000
     },
     "inputWidgets": {},
     "nuid": "7b160cf9-6656-4a4c-9baf-65ee00687962",
     "showTitle": false,
     "title": ""
    }
   },
   "outputs": [
    {
     "output_type": "display_data",
     "data": {
      "text/html": [
       "<div>\n",
       "<style scoped>\n",
       "    .dataframe tbody tr th:only-of-type {\n",
       "        vertical-align: middle;\n",
       "    }\n",
       "\n",
       "    .dataframe tbody tr th {\n",
       "        vertical-align: top;\n",
       "    }\n",
       "\n",
       "    .dataframe thead th {\n",
       "        text-align: right;\n",
       "    }\n",
       "</style>\n",
       "<table border=\"1\" class=\"dataframe\">\n",
       "  <thead>\n",
       "    <tr style=\"text-align: right;\">\n",
       "      <th></th>\n",
       "      <th>Unique_values_OWNER</th>\n",
       "      <th>Counts</th>\n",
       "    </tr>\n",
       "  </thead>\n",
       "  <tbody>\n",
       "    <tr>\n",
       "      <th>863341</th>\n",
       "      <td>ELARIO ALTERNO</td>\n",
       "      <td>1</td>\n",
       "    </tr>\n",
       "    <tr>\n",
       "      <th>863342</th>\n",
       "      <td>CHARLES,VIRGINIA</td>\n",
       "      <td>1</td>\n",
       "    </tr>\n",
       "    <tr>\n",
       "      <th>863343</th>\n",
       "      <td>HAYLES, HEATHER</td>\n",
       "      <td>1</td>\n",
       "    </tr>\n",
       "    <tr>\n",
       "      <th>863344</th>\n",
       "      <td>GLENDORA HARVEY</td>\n",
       "      <td>1</td>\n",
       "    </tr>\n",
       "    <tr>\n",
       "      <th>863345</th>\n",
       "      <td>EDWARD DONOHUE</td>\n",
       "      <td>1</td>\n",
       "    </tr>\n",
       "  </tbody>\n",
       "</table>\n",
       "</div>"
      ]
     },
     "metadata": {
      "application/vnd.databricks.v1+output": {
       "addedWidgets": {},
       "arguments": {},
       "data": "<div>\n<style scoped>\n    .dataframe tbody tr th:only-of-type {\n        vertical-align: middle;\n    }\n\n    .dataframe tbody tr th {\n        vertical-align: top;\n    }\n\n    .dataframe thead th {\n        text-align: right;\n    }\n</style>\n<table border=\"1\" class=\"dataframe\">\n  <thead>\n    <tr style=\"text-align: right;\">\n      <th></th>\n      <th>Unique_values_OWNER</th>\n      <th>Counts</th>\n    </tr>\n  </thead>\n  <tbody>\n    <tr>\n      <th>863341</th>\n      <td>ELARIO ALTERNO</td>\n      <td>1</td>\n    </tr>\n    <tr>\n      <th>863342</th>\n      <td>CHARLES,VIRGINIA</td>\n      <td>1</td>\n    </tr>\n    <tr>\n      <th>863343</th>\n      <td>HAYLES, HEATHER</td>\n      <td>1</td>\n    </tr>\n    <tr>\n      <th>863344</th>\n      <td>GLENDORA HARVEY</td>\n      <td>1</td>\n    </tr>\n    <tr>\n      <th>863345</th>\n      <td>EDWARD DONOHUE</td>\n      <td>1</td>\n    </tr>\n  </tbody>\n</table>\n</div>",
       "datasetInfos": [],
       "metadata": {},
       "removedWidgets": [],
       "textData": null,
       "type": "htmlSandbox"
      }
     },
     "output_type": "display_data"
    }
   ],
   "source": [
    "OWNER.tail()"
   ]
  },
  {
   "cell_type": "markdown",
   "metadata": {
    "application/vnd.databricks.v1+cell": {
     "cellMetadata": {
      "byteLimit": 2048000,
      "rowLimit": 10000
     },
     "inputWidgets": {},
     "nuid": "6c37b090-2ad5-42eb-a671-6cc11bad4f1f",
     "showTitle": false,
     "title": ""
    }
   },
   "source": [
    "**Variable 7**\\\n",
    "Nombre de variable: BLDGCL \\\n",
    "Descripción: Clase de propiedad"
   ]
  },
  {
   "cell_type": "code",
   "execution_count": 0,
   "metadata": {
    "application/vnd.databricks.v1+cell": {
     "cellMetadata": {
      "byteLimit": 2048000,
      "rowLimit": 10000
     },
     "inputWidgets": {},
     "nuid": "bab0fe63-506c-4e1c-9855-3f422a833360",
     "showTitle": false,
     "title": ""
    }
   },
   "outputs": [],
   "source": [
    "# Recuento\n",
    "BLDGCL = df_cat['BLDGCL'].value_counts().rename_axis('Unique_values_BLDCGL').reset_index(name = 'Counts')"
   ]
  },
  {
   "cell_type": "code",
   "execution_count": 0,
   "metadata": {
    "application/vnd.databricks.v1+cell": {
     "cellMetadata": {
      "byteLimit": 2048000,
      "rowLimit": 10000
     },
     "inputWidgets": {},
     "nuid": "a9dbbb6f-a4b4-49c0-b8a0-176a17f9f206",
     "showTitle": false,
     "title": ""
    }
   },
   "outputs": [
    {
     "output_type": "display_data",
     "data": {
      "text/html": [
       "<div>\n",
       "<style scoped>\n",
       "    .dataframe tbody tr th:only-of-type {\n",
       "        vertical-align: middle;\n",
       "    }\n",
       "\n",
       "    .dataframe tbody tr th {\n",
       "        vertical-align: top;\n",
       "    }\n",
       "\n",
       "    .dataframe thead th {\n",
       "        text-align: right;\n",
       "    }\n",
       "</style>\n",
       "<table border=\"1\" class=\"dataframe\">\n",
       "  <thead>\n",
       "    <tr style=\"text-align: right;\">\n",
       "      <th></th>\n",
       "      <th>Unique_values_BLDCGL</th>\n",
       "      <th>Counts</th>\n",
       "    </tr>\n",
       "  </thead>\n",
       "  <tbody>\n",
       "    <tr>\n",
       "      <th>195</th>\n",
       "      <td>I2</td>\n",
       "      <td>4</td>\n",
       "    </tr>\n",
       "    <tr>\n",
       "      <th>196</th>\n",
       "      <td>I3</td>\n",
       "      <td>4</td>\n",
       "    </tr>\n",
       "    <tr>\n",
       "      <th>197</th>\n",
       "      <td>H7</td>\n",
       "      <td>3</td>\n",
       "    </tr>\n",
       "    <tr>\n",
       "      <th>198</th>\n",
       "      <td>E6</td>\n",
       "      <td>1</td>\n",
       "    </tr>\n",
       "    <tr>\n",
       "      <th>199</th>\n",
       "      <td>Y5</td>\n",
       "      <td>1</td>\n",
       "    </tr>\n",
       "  </tbody>\n",
       "</table>\n",
       "</div>"
      ]
     },
     "metadata": {
      "application/vnd.databricks.v1+output": {
       "addedWidgets": {},
       "arguments": {},
       "data": "<div>\n<style scoped>\n    .dataframe tbody tr th:only-of-type {\n        vertical-align: middle;\n    }\n\n    .dataframe tbody tr th {\n        vertical-align: top;\n    }\n\n    .dataframe thead th {\n        text-align: right;\n    }\n</style>\n<table border=\"1\" class=\"dataframe\">\n  <thead>\n    <tr style=\"text-align: right;\">\n      <th></th>\n      <th>Unique_values_BLDCGL</th>\n      <th>Counts</th>\n    </tr>\n  </thead>\n  <tbody>\n    <tr>\n      <th>195</th>\n      <td>I2</td>\n      <td>4</td>\n    </tr>\n    <tr>\n      <th>196</th>\n      <td>I3</td>\n      <td>4</td>\n    </tr>\n    <tr>\n      <th>197</th>\n      <td>H7</td>\n      <td>3</td>\n    </tr>\n    <tr>\n      <th>198</th>\n      <td>E6</td>\n      <td>1</td>\n    </tr>\n    <tr>\n      <th>199</th>\n      <td>Y5</td>\n      <td>1</td>\n    </tr>\n  </tbody>\n</table>\n</div>",
       "datasetInfos": [],
       "metadata": {},
       "removedWidgets": [],
       "textData": null,
       "type": "htmlSandbox"
      }
     },
     "output_type": "display_data"
    }
   ],
   "source": [
    "BLDGCL.tail()"
   ]
  },
  {
   "cell_type": "code",
   "execution_count": 0,
   "metadata": {
    "application/vnd.databricks.v1+cell": {
     "cellMetadata": {
      "byteLimit": 2048000,
      "rowLimit": 10000
     },
     "inputWidgets": {},
     "nuid": "f4dbc99a-19a2-46e5-a0bf-b5ac83537e14",
     "showTitle": false,
     "title": ""
    }
   },
   "outputs": [
    {
     "output_type": "display_data",
     "data": {
      "text/html": [
       "<div>\n",
       "<style scoped>\n",
       "    .dataframe tbody tr th:only-of-type {\n",
       "        vertical-align: middle;\n",
       "    }\n",
       "\n",
       "    .dataframe tbody tr th {\n",
       "        vertical-align: top;\n",
       "    }\n",
       "\n",
       "    .dataframe thead th {\n",
       "        text-align: right;\n",
       "    }\n",
       "</style>\n",
       "<table border=\"1\" class=\"dataframe\">\n",
       "  <thead>\n",
       "    <tr style=\"text-align: right;\">\n",
       "      <th></th>\n",
       "      <th>Unique_values_BLDCGL</th>\n",
       "      <th>Counts</th>\n",
       "    </tr>\n",
       "  </thead>\n",
       "  <tbody>\n",
       "    <tr>\n",
       "      <th>0</th>\n",
       "      <td>R4</td>\n",
       "      <td>139879</td>\n",
       "    </tr>\n",
       "    <tr>\n",
       "      <th>1</th>\n",
       "      <td>A1</td>\n",
       "      <td>123369</td>\n",
       "    </tr>\n",
       "    <tr>\n",
       "      <th>2</th>\n",
       "      <td>A5</td>\n",
       "      <td>96984</td>\n",
       "    </tr>\n",
       "    <tr>\n",
       "      <th>3</th>\n",
       "      <td>B1</td>\n",
       "      <td>84208</td>\n",
       "    </tr>\n",
       "    <tr>\n",
       "      <th>4</th>\n",
       "      <td>B2</td>\n",
       "      <td>77598</td>\n",
       "    </tr>\n",
       "  </tbody>\n",
       "</table>\n",
       "</div>"
      ]
     },
     "metadata": {
      "application/vnd.databricks.v1+output": {
       "addedWidgets": {},
       "arguments": {},
       "data": "<div>\n<style scoped>\n    .dataframe tbody tr th:only-of-type {\n        vertical-align: middle;\n    }\n\n    .dataframe tbody tr th {\n        vertical-align: top;\n    }\n\n    .dataframe thead th {\n        text-align: right;\n    }\n</style>\n<table border=\"1\" class=\"dataframe\">\n  <thead>\n    <tr style=\"text-align: right;\">\n      <th></th>\n      <th>Unique_values_BLDCGL</th>\n      <th>Counts</th>\n    </tr>\n  </thead>\n  <tbody>\n    <tr>\n      <th>0</th>\n      <td>R4</td>\n      <td>139879</td>\n    </tr>\n    <tr>\n      <th>1</th>\n      <td>A1</td>\n      <td>123369</td>\n    </tr>\n    <tr>\n      <th>2</th>\n      <td>A5</td>\n      <td>96984</td>\n    </tr>\n    <tr>\n      <th>3</th>\n      <td>B1</td>\n      <td>84208</td>\n    </tr>\n    <tr>\n      <th>4</th>\n      <td>B2</td>\n      <td>77598</td>\n    </tr>\n  </tbody>\n</table>\n</div>",
       "datasetInfos": [],
       "metadata": {},
       "removedWidgets": [],
       "textData": null,
       "type": "htmlSandbox"
      }
     },
     "output_type": "display_data"
    }
   ],
   "source": [
    "BLDGCL.head()"
   ]
  },
  {
   "cell_type": "markdown",
   "metadata": {
    "application/vnd.databricks.v1+cell": {
     "cellMetadata": {
      "byteLimit": 2048000,
      "rowLimit": 10000
     },
     "inputWidgets": {},
     "nuid": "5df830a6-eddb-46d1-b6ce-070ca9015bf8",
     "showTitle": false,
     "title": ""
    }
   },
   "source": [
    "**Variable 8** \\\n",
    "Nombre de variable: TAXCLASS \\\n",
    "Descripción: Código de clase de impuesto a la propiedad"
   ]
  },
  {
   "cell_type": "code",
   "execution_count": 0,
   "metadata": {
    "application/vnd.databricks.v1+cell": {
     "cellMetadata": {
      "byteLimit": 2048000,
      "rowLimit": 10000
     },
     "inputWidgets": {},
     "nuid": "1647dc28-e794-4d24-a2d4-d40fdacda991",
     "showTitle": false,
     "title": ""
    }
   },
   "outputs": [
    {
     "output_type": "stream",
     "name": "stdout",
     "output_type": "stream",
     "text": [
      "Out[30]: Text(0.5, 1.0, 'Número de Propiedades con Múltiples Tipos de Clases')"
     ]
    },
    {
     "output_type": "display_data",
     "data": {
      "image/png": "[encoded data removed]"
     },
     "metadata": {
      "application/vnd.databricks.v1+output": {
       "addedWidgets": {},
       "arguments": {},
       "data": "data:image/png;base64,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\n",
       "datasetInfos": [],
       "metadata": {},
       "removedWidgets": [],
       "type": "image"
      }
     },
     "output_type": "display_data"
    }
   ],
   "source": [
    "# Visualización de variables 8\n",
    "sns.set_theme(style = 'darkgrid')\n",
    "plt.figure(figsize = (14, 6))\n",
    "fig3 = sns.countplot(x = 'TAXCLASS', data = dados, order = dados['TAXCLASS'].value_counts().index)\n",
    "fig3.set_yscale(\"log\")\n",
    "fig3.set_title('Número de Propiedades con Múltiples Tipos de Clases')"
   ]
  },
  {
   "cell_type": "markdown",
   "metadata": {
    "application/vnd.databricks.v1+cell": {
     "cellMetadata": {
      "byteLimit": 2048000,
      "rowLimit": 10000
     },
     "inputWidgets": {},
     "nuid": "be328879-6593-4b65-b8b8-406e692b631e",
     "showTitle": false,
     "title": ""
    }
   },
   "source": [
    "**Variable 9**\\\n",
    "Nombre de variable: LTFRONT\\\n",
    "Descripción: Frente de lote en pies (feet)"
   ]
  },
  {
   "cell_type": "code",
   "execution_count": 0,
   "metadata": {
    "application/vnd.databricks.v1+cell": {
     "cellMetadata": {
      "byteLimit": 2048000,
      "rowLimit": 10000
     },
     "inputWidgets": {},
     "nuid": "ddf31733-9383-4911-9639-0c11669d7ce0",
     "showTitle": false,
     "title": ""
    }
   },
   "outputs": [
    {
     "output_type": "stream",
     "name": "stdout",
     "output_type": "stream",
     "text": [
      "Out[31]: count   1070994.00\nmean         36.64\nstd          74.03\nmin           0.00\n50%          25.00\n75%          40.00\n99.5%       375.00\nmax        9999.00\nName: LTFRONT, dtype: float64"
     ]
    }
   ],
   "source": [
    "# Dividir en percentiles\n",
    "dados['LTFRONT'].describe(percentiles = [0.5,0.75,0.995])"
   ]
  },
  {
   "cell_type": "code",
   "execution_count": 0,
   "metadata": {
    "application/vnd.databricks.v1+cell": {
     "cellMetadata": {
      "byteLimit": 2048000,
      "rowLimit": 10000
     },
     "inputWidgets": {},
     "nuid": "7caef94a-7fff-4938-8ada-05097df0a36e",
     "showTitle": false,
     "title": ""
    }
   },
   "outputs": [],
   "source": [
    "# Filtrar por valores iguales o inferiores a 375\n",
    "tmp = dados[dados['LTFRONT'] <= 375]"
   ]
  },
  {
   "cell_type": "code",
   "execution_count": 0,
   "metadata": {
    "application/vnd.databricks.v1+cell": {
     "cellMetadata": {
      "byteLimit": 2048000,
      "rowLimit": 10000
     },
     "inputWidgets": {},
     "nuid": "125f349b-d4b8-45c4-a8f5-936b69150005",
     "showTitle": false,
     "title": ""
    }
   },
   "outputs": [
    {
     "output_type": "stream",
     "name": "stdout",
     "output_type": "stream",
     "text": [
      "Out[33]: Text(0.5, 1.0, 'Distribución de la Variable LTFRONT')"
     ]
    },
    {
     "output_type": "display_data",
     "data": {
      "image/png": "[encoded data removed]"
     },
     "metadata": {
      "application/vnd.databricks.v1+output": {
       "addedWidgets": {},
       "arguments": {},
       "data": "data:image/png;base64,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\n",
       "datasetInfos": [],
       "metadata": {},
       "removedWidgets": [],
       "type": "image"
      }
     },
     "output_type": "display_data"
    }
   ],
   "source": [
    "# Visualización de la variable 9\n",
    "sns.set_theme(style = 'whitegrid')\n",
    "plt.figure(figsize = (10, 5))\n",
    "fig4 = sns.distplot(tmp.LTFRONT, bins = 50)\n",
    "fig4.set_title('Distribución de la Variable LTFRONT')"
   ]
  },
  {
   "cell_type": "markdown",
   "metadata": {
    "application/vnd.databricks.v1+cell": {
     "cellMetadata": {
      "byteLimit": 2048000,
      "rowLimit": 10000
     },
     "inputWidgets": {},
     "nuid": "71d5e12d-247c-42f0-84f6-712691496ad2",
     "showTitle": false,
     "title": ""
    }
   },
   "source": [
    "**Variable 10** \\\n",
    "Nombre de variable: LTDEPTH\\\n",
    "Descripción: Profundidad del lote en pies (feet)"
   ]
  },
  {
   "cell_type": "code",
   "execution_count": 0,
   "metadata": {
    "application/vnd.databricks.v1+cell": {
     "cellMetadata": {
      "byteLimit": 2048000,
      "rowLimit": 10000
     },
     "inputWidgets": {},
     "nuid": "327b0620-71d1-418b-af85-4fd4d6f5ce07",
     "showTitle": false,
     "title": ""
    }
   },
   "outputs": [
    {
     "output_type": "stream",
     "name": "stdout",
     "output_type": "stream",
     "text": [
      "Out[34]: count    1070994.00\nmean          88.86\nstd           76.40\nmin            0.00\n18%           49.00\n25%           80.00\n40%          100.00\n50%          100.00\n83%          101.00\n98%          200.00\n99.95%      1056.50\nmax         9999.00\nName: LTDEPTH, dtype: float64"
     ]
    }
   ],
   "source": [
    "# Dividir en percentiles\n",
    "dados['LTDEPTH'].describe(percentiles = [0.18,0.25,0.4,0.83,0.98,0.9995])"
   ]
  },
  {
   "cell_type": "code",
   "execution_count": 0,
   "metadata": {
    "application/vnd.databricks.v1+cell": {
     "cellMetadata": {
      "byteLimit": 2048000,
      "rowLimit": 10000
     },
     "inputWidgets": {},
     "nuid": "9d00bf07-839a-4a4f-aa26-355579e77df3",
     "showTitle": false,
     "title": ""
    }
   },
   "outputs": [],
   "source": [
    "# Filtrar por valores iguales o inferiores a 425\n",
    "tmp = dados[dados['LTDEPTH'] <= 425]"
   ]
  },
  {
   "cell_type": "code",
   "execution_count": 0,
   "metadata": {
    "application/vnd.databricks.v1+cell": {
     "cellMetadata": {
      "byteLimit": 2048000,
      "rowLimit": 10000
     },
     "inputWidgets": {},
     "nuid": "eb6e208b-974c-44d6-b685-b94d3c13b664",
     "showTitle": false,
     "title": ""
    }
   },
   "outputs": [
    {
     "output_type": "stream",
     "name": "stdout",
     "output_type": "stream",
     "text": [
      "Out[36]: Text(0.5, 1.0, 'Distribución de la variable LTDEPTH')"
     ]
    },
    {
     "output_type": "display_data",
     "data": {
      "image/png": "[encoded data removed]"
     },
     "metadata": {
      "application/vnd.databricks.v1+output": {
       "addedWidgets": {},
       "arguments": {},
       "data": "data:image/png;base64,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\n",
       "datasetInfos": [],
       "metadata": {},
       "removedWidgets": [],
       "type": "image"
      }
     },
     "output_type": "display_data"
    }
   ],
   "source": [
    "# Visualización de variables 10\n",
    "sns.set_theme(style = 'whitegrid')\n",
    "plt.figure(figsize = (12, 6))\n",
    "fig5 = sns.distplot(tmp.LTDEPTH, bins = 50)\n",
    "fig5.set_yscale(\"log\")\n",
    "fig5.set_title('Distribución de la variable LTDEPTH')"
   ]
  },
  {
   "cell_type": "markdown",
   "metadata": {
    "application/vnd.databricks.v1+cell": {
     "cellMetadata": {
      "byteLimit": 2048000,
      "rowLimit": 10000
     },
     "inputWidgets": {},
     "nuid": "59a357e2-2705-4dbd-aeae-22ef7a3ac928",
     "showTitle": false,
     "title": ""
    }
   },
   "source": [
    "**Variable 11** \\\n",
    "Nombre de variable: EXT \\\n",
    "Descripción: E- Extension, G- Garage, EG- Extension y Garage"
   ]
  },
  {
   "cell_type": "code",
   "execution_count": 0,
   "metadata": {
    "application/vnd.databricks.v1+cell": {
     "cellMetadata": {
      "byteLimit": 2048000,
      "rowLimit": 10000
     },
     "inputWidgets": {},
     "nuid": "70d09eb3-4a3c-42ea-af3d-dda3db3636c3",
     "showTitle": false,
     "title": ""
    }
   },
   "outputs": [
    {
     "output_type": "stream",
     "name": "stdout",
     "output_type": "stream",
     "text": [
      "Out[37]: Text(0.5, 1.0, 'Número de propiedades con varios tipos de ampliaciones/garaje')"
     ]
    },
    {
     "output_type": "display_data",
     "data": {
      "image/png": "[encoded data removed]"
     },
     "metadata": {
      "application/vnd.databricks.v1+output": {
       "addedWidgets": {},
       "arguments": {},
       "data": "data:image/png;base64,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\n",
       "datasetInfos": [],
       "metadata": {},
       "removedWidgets": [],
       "type": "image"
      }
     },
     "output_type": "display_data"
    }
   ],
   "source": [
    "# Visualización de la variable 11\n",
    "sns.set_theme(style = 'whitegrid')\n",
    "plt.figure(figsize = (12, 6))\n",
    "fig6 = sns.countplot(x = 'EXT', data = dados, order = dados['EXT'].value_counts().index)\n",
    "fig6.set_title('Número de propiedades con varios tipos de ampliaciones/garaje')"
   ]
  },
  {
   "cell_type": "markdown",
   "metadata": {
    "application/vnd.databricks.v1+cell": {
     "cellMetadata": {
      "byteLimit": 2048000,
      "rowLimit": 10000
     },
     "inputWidgets": {},
     "nuid": "28c33cc8-9d46-46b3-af42-8e7973d1f98b",
     "showTitle": false,
     "title": ""
    }
   },
   "source": [
    "**Variable 12** \\\n",
    "Nombre de variable: Stories \\\n",
    "Descripción: Número de plantas del edificio."
   ]
  },
  {
   "cell_type": "code",
   "execution_count": 0,
   "metadata": {
    "application/vnd.databricks.v1+cell": {
     "cellMetadata": {
      "byteLimit": 2048000,
      "rowLimit": 10000
     },
     "inputWidgets": {},
     "nuid": "deaf3087-e169-4dbb-94aa-97af64fd2f0a",
     "showTitle": false,
     "title": ""
    }
   },
   "outputs": [
    {
     "output_type": "stream",
     "name": "stdout",
     "output_type": "stream",
     "text": [
      "Out[38]: count   1014730.00\nmean          5.01\nstd           8.37\nmin           1.00\n50%           2.00\n75%           3.00\n99.5%        50.00\nmax         119.00\nName: STORIES, dtype: float64"
     ]
    }
   ],
   "source": [
    "# Dividir en percentiles\n",
    "dados['STORIES'].describe(percentiles = [0.5,0.75,0.995])"
   ]
  },
  {
   "cell_type": "code",
   "execution_count": 0,
   "metadata": {
    "application/vnd.databricks.v1+cell": {
     "cellMetadata": {
      "byteLimit": 2048000,
      "rowLimit": 10000
     },
     "inputWidgets": {},
     "nuid": "e7efde5c-e3bf-4041-ad23-9dee5ca5fda2",
     "showTitle": false,
     "title": ""
    }
   },
   "outputs": [],
   "source": [
    "# Filtrar \n",
    "tmp = dados[dados['STORIES'] <= 50]"
   ]
  },
  {
   "cell_type": "code",
   "execution_count": 0,
   "metadata": {
    "application/vnd.databricks.v1+cell": {
     "cellMetadata": {
      "byteLimit": 2048000,
      "rowLimit": 10000
     },
     "inputWidgets": {},
     "nuid": "117b6f6e-481a-46e7-a962-d0ef720d1974",
     "showTitle": false,
     "title": ""
    }
   },
   "outputs": [
    {
     "output_type": "stream",
     "name": "stdout",
     "output_type": "stream",
     "text": [
      "Out[40]: Text(0.5, 1.0, 'Distribución de Pisos de Propiedad')"
     ]
    },
    {
     "output_type": "display_data",
     "data": {
      "image/png": "[encoded data removed]"
     },
     "metadata": {
      "application/vnd.databricks.v1+output": {
       "addedWidgets": {},
       "arguments": {},
       "data": "data:image/png;base64,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\n",
       "datasetInfos": [],
       "metadata": {},
       "removedWidgets": [],
       "type": "image"
      }
     },
     "output_type": "display_data"
    }
   ],
   "source": [
    "# Visualización de variables 12\n",
    "sns.set_theme(style = 'whitegrid')\n",
    "plt.figure(figsize = (12, 6))\n",
    "fig7 = sns.distplot(tmp['STORIES'], kde = False, bins = 50)\n",
    "fig7.set_yscale('log', basey = 2)\n",
    "fig7.set_title('Distribución de Pisos de Propiedad')"
   ]
  },
  {
   "cell_type": "markdown",
   "metadata": {
    "application/vnd.databricks.v1+cell": {
     "cellMetadata": {
      "byteLimit": 2048000,
      "rowLimit": 10000
     },
     "inputWidgets": {},
     "nuid": "25882028-c3fc-4d65-8222-8cfce1ef01a5",
     "showTitle": false,
     "title": ""
    }
   },
   "source": [
    "**Variable 13** \\\n",
    "Nombre de variable: FULLVAL \\\n",
    "Descripción: Valor total de mercado"
   ]
  },
  {
   "cell_type": "code",
   "execution_count": 0,
   "metadata": {
    "application/vnd.databricks.v1+cell": {
     "cellMetadata": {
      "byteLimit": 2048000,
      "rowLimit": 10000
     },
     "inputWidgets": {},
     "nuid": "198b722a-cd94-47c9-a4ff-34149450e053",
     "showTitle": false,
     "title": ""
    }
   },
   "outputs": [
    {
     "output_type": "stream",
     "name": "stdout",
     "output_type": "stream",
     "text": [
      "Out[41]: count      1070994.00\nmean        874264.51\nstd       11582430.99\nmin              0.00\n50%         447000.00\n75%         619000.00\n95%        1530000.00\nmax     6150000000.00\nName: FULLVAL, dtype: float64"
     ]
    }
   ],
   "source": [
    "# Dividir en percentiles\n",
    "dados['FULLVAL'].describe(percentiles = [0.5,0.75,0.95])"
   ]
  },
  {
   "cell_type": "code",
   "execution_count": 0,
   "metadata": {
    "application/vnd.databricks.v1+cell": {
     "cellMetadata": {
      "byteLimit": 2048000,
      "rowLimit": 10000
     },
     "inputWidgets": {},
     "nuid": "ee47679a-aee9-4f1f-922f-09f2a314a847",
     "showTitle": false,
     "title": ""
    }
   },
   "outputs": [
    {
     "output_type": "stream",
     "name": "stdout",
     "output_type": "stream",
     "text": [
      "Out[42]: RECORD\n1    21400000.00\n2   193800000.00\n3   104686000.00\n4    39200000.00\n5   272300000.00\nName: FULLVAL, dtype: float64"
     ]
    }
   ],
   "source": [
    "# Visualiza los datos\n",
    "dados['FULLVAL'].head()"
   ]
  },
  {
   "cell_type": "code",
   "execution_count": 0,
   "metadata": {
    "application/vnd.databricks.v1+cell": {
     "cellMetadata": {
      "byteLimit": 2048000,
      "rowLimit": 10000
     },
     "inputWidgets": {},
     "nuid": "638caaed-5729-4489-9ef2-0eadb3e4fd85",
     "showTitle": false,
     "title": ""
    }
   },
   "outputs": [],
   "source": [
    "# Filtra datos para simplificar la visualización y evitar valores extremos.\n",
    "tmp = dados[dados['FULLVAL'] <= 3000000]"
   ]
  },
  {
   "cell_type": "code",
   "execution_count": 0,
   "metadata": {
    "application/vnd.databricks.v1+cell": {
     "cellMetadata": {
      "byteLimit": 2048000,
      "rowLimit": 10000
     },
     "inputWidgets": {},
     "nuid": "b10cae7f-42b7-465e-95b3-9787bd26d46d",
     "showTitle": false,
     "title": ""
    }
   },
   "outputs": [
    {
     "output_type": "stream",
     "name": "stdout",
     "output_type": "stream",
     "text": [
      "Out[44]: Text(0.5, 1.0, 'Distribución del valor total de mercado de las propiedades')"
     ]
    },
    {
     "output_type": "display_data",
     "data": {
      "image/png": "[encoded data removed]"
     },
     "metadata": {
      "application/vnd.databricks.v1+output": {
       "addedWidgets": {},
       "arguments": {},
       "data": "data:image/png;base64,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\n",
       "datasetInfos": [],
       "metadata": {},
       "removedWidgets": [],
       "type": "image"
      }
     },
     "output_type": "display_data"
    }
   ],
   "source": [
    "# Vista de variables 13\n",
    "dimensoes = (12, 8)\n",
    "fig, ax = pyplot.subplots(figsize = dimensoes)\n",
    "fig8 = sns.distplot(tmp.FULLVAL, kde = False, bins = 70)\n",
    "fig8.set_title('Distribución del valor total de mercado de las propiedades')"
   ]
  },
  {
   "cell_type": "markdown",
   "metadata": {
    "application/vnd.databricks.v1+cell": {
     "cellMetadata": {
      "byteLimit": 2048000,
      "rowLimit": 10000
     },
     "inputWidgets": {},
     "nuid": "7990ab99-7b7f-47c0-a0e1-c8744f3e6650",
     "showTitle": false,
     "title": ""
    }
   },
   "source": [
    "**Variable 14**\\\n",
    "Nombre de variable: AVLAND\\\n",
    "Descripción: Valor de mercado del terreno"
   ]
  },
  {
   "cell_type": "code",
   "execution_count": 0,
   "metadata": {
    "application/vnd.databricks.v1+cell": {
     "cellMetadata": {
      "byteLimit": 2048000,
      "rowLimit": 10000
     },
     "inputWidgets": {},
     "nuid": "5424d228-de15-4d25-9baf-13592012bcee",
     "showTitle": false,
     "title": ""
    }
   },
   "outputs": [
    {
     "output_type": "stream",
     "name": "stdout",
     "output_type": "stream",
     "text": [
      "Out[45]: count      1070994.00\nmean         85067.92\nstd        4057260.06\nmin              0.00\n50%          13678.00\n75%          19740.00\n95%         131388.75\nmax     2668500000.00\nName: AVLAND, dtype: float64"
     ]
    }
   ],
   "source": [
    "# Dividir en percentiles\n",
    "dados['AVLAND'].describe(percentiles = [0.5,0.75,0.95])"
   ]
  },
  {
   "cell_type": "code",
   "execution_count": 0,
   "metadata": {
    "application/vnd.databricks.v1+cell": {
     "cellMetadata": {
      "byteLimit": 2048000,
      "rowLimit": 10000
     },
     "inputWidgets": {},
     "nuid": "e8d377bf-3b4a-4b9f-ae60-1eda923ad976",
     "showTitle": false,
     "title": ""
    }
   },
   "outputs": [],
   "source": [
    "# Filtrar los datos\n",
    "tmp = dados[dados['AVLAND'] <= 50000]"
   ]
  },
  {
   "cell_type": "code",
   "execution_count": 0,
   "metadata": {
    "application/vnd.databricks.v1+cell": {
     "cellMetadata": {
      "byteLimit": 2048000,
      "rowLimit": 10000
     },
     "inputWidgets": {},
     "nuid": "9aca85f4-7713-4541-a477-dbae390db95e",
     "showTitle": false,
     "title": ""
    }
   },
   "outputs": [
    {
     "output_type": "stream",
     "name": "stdout",
     "output_type": "stream",
     "text": [
      "Out[47]: Text(0.5, 1.0, 'Distribución del Valor de Mercado de los Terrenos de las Propiedades')"
     ]
    },
    {
     "output_type": "display_data",
     "data": {
      "image/png": "[encoded data removed]"
     },
     "metadata": {
      "application/vnd.databricks.v1+output": {
       "addedWidgets": {},
       "arguments": {},
       "data": "data:image/png;base64,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\n",
       "datasetInfos": [],
       "metadata": {},
       "removedWidgets": [],
       "type": "image"
      }
     },
     "output_type": "display_data"
    }
   ],
   "source": [
    "# Vista de variables 14\n",
    "dimensoes = (12, 8)\n",
    "fig, ax = pyplot.subplots(figsize = dimensoes)\n",
    "fig9 = sns.distplot(tmp.AVLAND, kde = False, bins = 80)\n",
    "fig9.set_title('Distribución del Valor de Mercado de los Terrenos de las Propiedades')"
   ]
  },
  {
   "cell_type": "markdown",
   "metadata": {
    "application/vnd.databricks.v1+cell": {
     "cellMetadata": {
      "byteLimit": 2048000,
      "rowLimit": 10000
     },
     "inputWidgets": {},
     "nuid": "edd3125a-cf9b-4062-9cbb-9f41ec2351c7",
     "showTitle": false,
     "title": ""
    }
   },
   "source": [
    "**Variable 15** \\\n",
    "Nombre de variable: EXLAND\\\n",
    "Descripción: Valor provisional de terrenos con exención temporal"
   ]
  },
  {
   "cell_type": "code",
   "execution_count": 0,
   "metadata": {
    "application/vnd.databricks.v1+cell": {
     "cellMetadata": {
      "byteLimit": 2048000,
      "rowLimit": 10000
     },
     "inputWidgets": {},
     "nuid": "c5510918-356f-4db8-a368-6b1114bd8b66",
     "showTitle": false,
     "title": ""
    }
   },
   "outputs": [
    {
     "output_type": "stream",
     "name": "stdout",
     "output_type": "stream",
     "text": [
      "Out[48]: count      1070994.00\nmean         36423.89\nstd        3981575.79\nmin              0.00\n50%           1620.00\n75%           1620.00\n95%          14489.00\nmax     2668500000.00\nName: EXLAND, dtype: float64"
     ]
    }
   ],
   "source": [
    "# Dividir en percentiles\n",
    "dados['EXLAND'].describe(percentiles = [0.5,0.75,0.95])"
   ]
  },
  {
   "cell_type": "code",
   "execution_count": 0,
   "metadata": {
    "application/vnd.databricks.v1+cell": {
     "cellMetadata": {
      "byteLimit": 2048000,
      "rowLimit": 10000
     },
     "inputWidgets": {},
     "nuid": "336f565c-6abc-49c2-a930-8f5768b0d7b8",
     "showTitle": false,
     "title": ""
    }
   },
   "outputs": [],
   "source": [
    "# Filtrar\n",
    "tmp = dados[dados['EXLAND'] <= 20000]"
   ]
  },
  {
   "cell_type": "code",
   "execution_count": 0,
   "metadata": {
    "application/vnd.databricks.v1+cell": {
     "cellMetadata": {
      "byteLimit": 2048000,
      "rowLimit": 10000
     },
     "inputWidgets": {},
     "nuid": "22c8b62a-dfde-46a1-8183-28039fcf6a14",
     "showTitle": false,
     "title": ""
    }
   },
   "outputs": [
    {
     "output_type": "stream",
     "name": "stdout",
     "output_type": "stream",
     "text": [
      "Out[50]: Text(0.5, 1.0, 'Valor Provisional del Terreno con Exención Temporal')"
     ]
    },
    {
     "output_type": "display_data",
     "data": {
      "image/png": "[encoded data removed]"
     },
     "metadata": {
      "application/vnd.databricks.v1+output": {
       "addedWidgets": {},
       "arguments": {},
       "data": "data:image/png;base64,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\n",
       "datasetInfos": [],
       "metadata": {},
       "removedWidgets": [],
       "type": "image"
      }
     },
     "output_type": "display_data"
    }
   ],
   "source": [
    "# Vista de variables 15\n",
    "dimensoes = (14, 8)\n",
    "fig, ax = pyplot.subplots(figsize = dimensoes)\n",
    "fig11 = sns.distplot(tmp.EXLAND, kde = False, bins = 100)\n",
    "fig11.set_yscale('log', basey = 2)\n",
    "fig11.set_title('Valor Provisional del Terreno con Exención Temporal')"
   ]
  },
  {
   "cell_type": "markdown",
   "metadata": {
    "application/vnd.databricks.v1+cell": {
     "cellMetadata": {
      "byteLimit": 2048000,
      "rowLimit": 10000
     },
     "inputWidgets": {},
     "nuid": "8236ef7a-f81e-49a3-828b-dd1f8194b00e",
     "showTitle": false,
     "title": ""
    }
   },
   "source": [
    "# Fin"
   ]
  }
 ],
 "metadata": {
  "application/vnd.databricks.v1+notebook": {
   "dashboards": [],
   "language": "python",
   "notebookMetadata": {
    "pythonIndentUnit": 2
   },
   "notebookName": "Data_Quality_Report",
   "widgets": {}
  },
  "kernelspec": {
   "display_name": "Python 3",
   "language": "python",
   "name": "python3"
  },
  "language_info": {
   "codemirror_mode": {
    "name": "ipython",
    "version": 3
   },
   "file_extension": ".py",
   "mimetype": "text/x-python",
   "name": "python",
   "nbconvert_exporter": "python",
   "pygments_lexer": "ipython3",
   "version": "3.7.6"
  },
  "toc": {
   "base_numbering": 1,
   "nav_menu": {},
   "number_sections": true,
   "sideBar": true,
   "skip_h1_title": false,
   "title_cell": "Table of Contents",
   "title_sidebar": "Contents",
   "toc_cell": false,
   "toc_position": {},
   "toc_section_display": true,
   "toc_window_display": false
  },
  "varInspector": {
   "cols": {
    "lenName": 16,
    "lenType": 16,
    "lenVar": 40
   },
   "kernels_config": {
    "python": {
     "delete_cmd_postfix": "",
     "delete_cmd_prefix": "del ",
     "library": "var_list.py",
     "varRefreshCmd": "print(var_dic_list())"
    },
    "r": {
     "delete_cmd_postfix": ") ",
     "delete_cmd_prefix": "rm(",
     "library": "var_list.r",
     "varRefreshCmd": "cat(var_dic_list()) "
    }
   },
   "types_to_exclude": [
    "module",
    "function",
    "builtin_function_or_method",
    "instance",
    "_Feature"
   ],
   "window_display": false
  }
 },
 "nbformat": 4,
 "nbformat_minor": 0
}
